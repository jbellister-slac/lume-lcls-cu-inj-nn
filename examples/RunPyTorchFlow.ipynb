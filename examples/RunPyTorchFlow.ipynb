{
 "cells": [
  {
   "cell_type": "code",
   "execution_count": 1,
   "id": "1355c2b4-257f-4f2c-833d-37ec53a7f076",
   "metadata": {},
   "outputs": [
    {
     "name": "stderr",
     "output_type": "stream",
     "text": [
      "2023-08-01 21:30:13.684000: I tensorflow/core/platform/cpu_feature_guard.cc:182] This TensorFlow binary is optimized to use available CPU instructions in performance-critical operations.\n",
      "To enable the following instructions: SSE4.1 SSE4.2 AVX AVX2 FMA, in other operations, rebuild TensorFlow with the appropriate compiler flags.\n"
     ]
    }
   ],
   "source": [
    "from typing import Dict\n",
    "\n",
    "from prefect import Flow, task, case\n",
    "from prefect import Parameter\n",
    "\n",
    "from lume_services.results import Result\n",
    "from lume_services.tasks import (\n",
    "    configure_lume_services,\n",
    "    prepare_lume_model_variables,\n",
    "    check_local_execution,\n",
    "    SaveDBResult,\n",
    "    LoadDBResult,\n",
    "    LoadFile,\n",
    "    SaveFile,\n",
    ")\n",
    "from lume_services.files import TextFile\n",
    "from lume_model.variables import InputVariable, OutputVariable\n",
    "from prefect.storage import Module\n",
    "\n",
    "from lume_lcls_cu_inj_nn.model import LCLSCuInjNN\n",
    "from lume_lcls_cu_inj_nn import INPUT_VARIABLES, CU_INJ_MAPPING_TABLE"
   ]
  },
  {
   "cell_type": "code",
   "execution_count": 2,
   "id": "a0a64987-30e2-4c2f-a53f-f3c3eab2fd62",
   "metadata": {},
   "outputs": [],
   "source": [
    "def preprocessing_task(input_variables):\n",
    "    # scale all values w.r.t. impact factor\n",
    "    for var_name, var in input_variables.items():\n",
    "\n",
    "        # if name included in scaling factors\n",
    "        if (\n",
    "            CU_INJ_MAPPING_TABLE[\"impact_name\"]\n",
    "            .str.contains(var_name, regex=False)\n",
    "            .any()\n",
    "        ):\n",
    "\n",
    "            # scaled_val = (\n",
    "            #     var.value\n",
    "            #     * CU_INJ_MAPPING_TABLE.loc[\n",
    "            #         CU_INJ_MAPPING_TABLE[\"impact_name\"] == var_name, \"impact_factor\"\n",
    "            #     ].item()\n",
    "            # )\n",
    "\n",
    "            var.value = var.value\n",
    "\n",
    "    return input_variables\n",
    "\n",
    "def format_result(\n",
    "    input_variables: Dict[str, InputVariable],\n",
    "    output_variables: Dict[str, OutputVariable],\n",
    "):\n",
    "\n",
    "    inputs = {var_name: var.value for var_name, var in input_variables.items()}\n",
    "    outputs = {var_name: var.value.astype('float64') for var_name, var in output_variables.items()}\n",
    "\n",
    "    # convert array to list\n",
    "    outputs[\"x:y\"] = outputs[\"x:y\"].tolist()\n",
    "\n",
    "    return Result(inputs=inputs, outputs=outputs)"
   ]
  },
  {
   "cell_type": "code",
   "execution_count": 3,
   "id": "52428144-dc5d-4ed4-b0d0-6cffe90587f3",
   "metadata": {},
   "outputs": [],
   "source": [
    "configure = configure_lume_services.run()\n",
    "running_local = check_local_execution.run()\n",
    "#running_local.set_upstream(configure)"
   ]
  },
  {
   "cell_type": "code",
   "execution_count": null,
   "id": "a7ca1ef0-5dc7-430b-8919-a1cdfa60a478",
   "metadata": {},
   "outputs": [],
   "source": [
    "input = {\n",
    "                        \"distgen:r_dist:sigma_xy:value\": 0.45330, \n",
    "                        \"distgen:total_charge:value\": 250.0, \n",
    "                        \"distgen:t_dist:length:value\":7.499772441611215, \n",
    "                        \"SOL1:solenoid_field_scale\": 0.17, \n",
    "                        \"CQ01:b1_gradient\":-0.0074,\n",
    "                        \"SQ01:b1_gradient\": -0.0074,\n",
    "                        \"L0A_phase:dtheta0_deg\": -8.8997,\n",
    "                        \"L0A_scale:voltage\": 70000000.0,\n",
    "                        \"distgen:t_dist:length:value\": 7.499772441611215,\n",
    "                        \"end_mean_z\": 4.6147002\n",
    "}"
   ]
  },
  {
   "cell_type": "code",
   "execution_count": 4,
   "id": "e31cca2e-2c5a-4d63-bd81-c0739cc55c9a",
   "metadata": {},
   "outputs": [
    {
     "data": {
      "text/plain": [
       "dict_keys(['distgen:r_dist:sigma_xy:value', 'distgen:t_dist:length:value', 'distgen:total_charge:value', 'SOL1:solenoid_field_scale', 'CQ01:b1_gradient', 'SQ01:b1_gradient', 'L0A_phase:dtheta0_deg', 'L0A_scale:voltage', 'end_mean_z'])"
      ]
     },
     "execution_count": 4,
     "metadata": {},
     "output_type": "execute_result"
    }
   ],
   "source": [
    "input_variable_parameter_dict = {\n",
    "        var_name: Parameter(var_name, default=var.default)\n",
    "        for var_name, var in INPUT_VARIABLES.items()\n",
    "    }\n",
    "INPUT_VARIABLES.keys()"
   ]
  },
  {
   "cell_type": "code",
   "execution_count": 5,
   "id": "2a3c9733-0ebb-4a8a-a6be-7c0c418b93f6",
   "metadata": {},
   "outputs": [
    {
     "name": "stderr",
     "output_type": "stream",
     "text": [
      "2023-08-01 21:30:19.306272: I tensorflow/compiler/xla/stream_executor/cuda/cuda_gpu_executor.cc:996] successful NUMA node read from SysFS had negative value (-1), but there must be at least one NUMA node, so returning NUMA node zero. See more at https://github.com/torvalds/linux/blob/v6.0/Documentation/ABI/testing/sysfs-bus-pci#L344-L355\n",
      "2023-08-01 21:30:19.306488: I tensorflow/compiler/xla/stream_executor/cuda/cuda_gpu_executor.cc:996] successful NUMA node read from SysFS had negative value (-1), but there must be at least one NUMA node, so returning NUMA node zero. See more at https://github.com/torvalds/linux/blob/v6.0/Documentation/ABI/testing/sysfs-bus-pci#L344-L355\n",
      "2023-08-01 21:30:19.324270: I tensorflow/compiler/xla/stream_executor/cuda/cuda_gpu_executor.cc:996] successful NUMA node read from SysFS had negative value (-1), but there must be at least one NUMA node, so returning NUMA node zero. See more at https://github.com/torvalds/linux/blob/v6.0/Documentation/ABI/testing/sysfs-bus-pci#L344-L355\n",
      "2023-08-01 21:30:19.324515: I tensorflow/compiler/xla/stream_executor/cuda/cuda_gpu_executor.cc:996] successful NUMA node read from SysFS had negative value (-1), but there must be at least one NUMA node, so returning NUMA node zero. See more at https://github.com/torvalds/linux/blob/v6.0/Documentation/ABI/testing/sysfs-bus-pci#L344-L355\n",
      "2023-08-01 21:30:19.324693: I tensorflow/compiler/xla/stream_executor/cuda/cuda_gpu_executor.cc:996] successful NUMA node read from SysFS had negative value (-1), but there must be at least one NUMA node, so returning NUMA node zero. See more at https://github.com/torvalds/linux/blob/v6.0/Documentation/ABI/testing/sysfs-bus-pci#L344-L355\n",
      "2023-08-01 21:30:19.324863: I tensorflow/compiler/xla/stream_executor/cuda/cuda_gpu_executor.cc:996] successful NUMA node read from SysFS had negative value (-1), but there must be at least one NUMA node, so returning NUMA node zero. See more at https://github.com/torvalds/linux/blob/v6.0/Documentation/ABI/testing/sysfs-bus-pci#L344-L355\n",
      "2023-08-01 21:30:19.450180: I tensorflow/compiler/xla/stream_executor/cuda/cuda_gpu_executor.cc:996] successful NUMA node read from SysFS had negative value (-1), but there must be at least one NUMA node, so returning NUMA node zero. See more at https://github.com/torvalds/linux/blob/v6.0/Documentation/ABI/testing/sysfs-bus-pci#L344-L355\n",
      "2023-08-01 21:30:19.450386: I tensorflow/compiler/xla/stream_executor/cuda/cuda_gpu_executor.cc:996] successful NUMA node read from SysFS had negative value (-1), but there must be at least one NUMA node, so returning NUMA node zero. See more at https://github.com/torvalds/linux/blob/v6.0/Documentation/ABI/testing/sysfs-bus-pci#L344-L355\n",
      "2023-08-01 21:30:19.450562: I tensorflow/compiler/xla/stream_executor/cuda/cuda_gpu_executor.cc:996] successful NUMA node read from SysFS had negative value (-1), but there must be at least one NUMA node, so returning NUMA node zero. See more at https://github.com/torvalds/linux/blob/v6.0/Documentation/ABI/testing/sysfs-bus-pci#L344-L355\n",
      "2023-08-01 21:30:19.450728: I tensorflow/compiler/xla/stream_executor/cuda/cuda_gpu_executor.cc:996] successful NUMA node read from SysFS had negative value (-1), but there must be at least one NUMA node, so returning NUMA node zero. See more at https://github.com/torvalds/linux/blob/v6.0/Documentation/ABI/testing/sysfs-bus-pci#L344-L355\n",
      "2023-08-01 21:30:19.450894: I tensorflow/compiler/xla/stream_executor/cuda/cuda_gpu_executor.cc:996] successful NUMA node read from SysFS had negative value (-1), but there must be at least one NUMA node, so returning NUMA node zero. See more at https://github.com/torvalds/linux/blob/v6.0/Documentation/ABI/testing/sysfs-bus-pci#L344-L355\n",
      "2023-08-01 21:30:19.451059: I tensorflow/compiler/xla/stream_executor/cuda/cuda_gpu_executor.cc:996] successful NUMA node read from SysFS had negative value (-1), but there must be at least one NUMA node, so returning NUMA node zero. See more at https://github.com/torvalds/linux/blob/v6.0/Documentation/ABI/testing/sysfs-bus-pci#L344-L355\n",
      "2023-08-01 21:30:19.948641: I tensorflow/compiler/xla/stream_executor/cuda/cuda_gpu_executor.cc:996] successful NUMA node read from SysFS had negative value (-1), but there must be at least one NUMA node, so returning NUMA node zero. See more at https://github.com/torvalds/linux/blob/v6.0/Documentation/ABI/testing/sysfs-bus-pci#L344-L355\n",
      "2023-08-01 21:30:19.948865: I tensorflow/compiler/xla/stream_executor/cuda/cuda_gpu_executor.cc:996] successful NUMA node read from SysFS had negative value (-1), but there must be at least one NUMA node, so returning NUMA node zero. See more at https://github.com/torvalds/linux/blob/v6.0/Documentation/ABI/testing/sysfs-bus-pci#L344-L355\n",
      "2023-08-01 21:30:19.949049: I tensorflow/compiler/xla/stream_executor/cuda/cuda_gpu_executor.cc:996] successful NUMA node read from SysFS had negative value (-1), but there must be at least one NUMA node, so returning NUMA node zero. See more at https://github.com/torvalds/linux/blob/v6.0/Documentation/ABI/testing/sysfs-bus-pci#L344-L355\n",
      "2023-08-01 21:30:19.949222: I tensorflow/compiler/xla/stream_executor/cuda/cuda_gpu_executor.cc:996] successful NUMA node read from SysFS had negative value (-1), but there must be at least one NUMA node, so returning NUMA node zero. See more at https://github.com/torvalds/linux/blob/v6.0/Documentation/ABI/testing/sysfs-bus-pci#L344-L355\n",
      "2023-08-01 21:30:19.949401: I tensorflow/compiler/xla/stream_executor/cuda/cuda_gpu_executor.cc:996] successful NUMA node read from SysFS had negative value (-1), but there must be at least one NUMA node, so returning NUMA node zero. See more at https://github.com/torvalds/linux/blob/v6.0/Documentation/ABI/testing/sysfs-bus-pci#L344-L355\n",
      "2023-08-01 21:30:19.949556: I tensorflow/core/common_runtime/gpu/gpu_device.cc:1635] Created device /job:localhost/replica:0/task:0/device:GPU:0 with 46714 MB memory:  -> device: 0, name: NVIDIA RTX A6000, pci bus id: 0000:2a:00.0, compute capability: 8.6\n",
      "2023-08-01 21:30:19.949867: I tensorflow/compiler/xla/stream_executor/cuda/cuda_gpu_executor.cc:996] successful NUMA node read from SysFS had negative value (-1), but there must be at least one NUMA node, so returning NUMA node zero. See more at https://github.com/torvalds/linux/blob/v6.0/Documentation/ABI/testing/sysfs-bus-pci#L344-L355\n",
      "2023-08-01 21:30:19.950008: I tensorflow/core/common_runtime/gpu/gpu_device.cc:1635] Created device /job:localhost/replica:0/task:0/device:GPU:1 with 46669 MB memory:  -> device: 1, name: NVIDIA RTX A6000, pci bus id: 0000:61:00.0, compute capability: 8.6\n"
     ]
    }
   ],
   "source": [
    "# ORGANIZE INPUT VARIABLE VALUES LUME-MODEL VARIABLES\n",
    "formatted_input_vars = prepare_lume_model_variables.run(\n",
    "    input_variable_parameter_dict, INPUT_VARIABLES\n",
    ")\n",
    "processed_input_vars = preprocessing_task(formatted_input_vars)\n",
    "model = LCLSCuInjNN()"
   ]
  },
  {
   "cell_type": "code",
   "execution_count": 6,
   "id": "bc393dc4-c2b1-4d3c-ab17-e906227e531b",
   "metadata": {},
   "outputs": [],
   "source": [
    "input = {\n",
    "                        \"distgen:r_dist:sigma_xy:value\": 0.4130, \n",
    "                        \"distgen:total_charge:value\": 250.0, \n",
    "                        \"distgen:t_dist:length:value\":7.499772441611215, \n",
    "                        \"SOL1:solenoid_field_scale\": 0.17, \n",
    "                        \"CQ01:b1_gradient\":-0.0074,\n",
    "                        \"SQ01:b1_gradient\": -0.0074,\n",
    "                        \"L0A_phase:dtheta0_deg\": -8.8997,\n",
    "                        \"L0A_scale:voltage\": 70000000.0,\n",
    "                        \"distgen:t_dist:length:value\": 7.499772441611215,\n",
    "                        \"end_mean_z\": 4.6147002\n",
    "}"
   ]
  },
  {
   "cell_type": "code",
   "execution_count": 7,
   "id": "ad5e1814-ac9f-4d51-aefa-e42f02df95b1",
   "metadata": {},
   "outputs": [
    {
     "data": {
      "text/plain": [
       "{'distgen:r_dist:sigma_xy:value': ScalarInputVariable(variable_type='scalar', units='mm', parent_variable=None, value_range=[0.2000128411163704, 0.499960029319067], name='distgen:r_dist:sigma_xy:value', value=0.413, precision=None, default=0.413, is_constant=False),\n",
       " 'distgen:t_dist:length:value': ScalarInputVariable(variable_type='scalar', units='ps', parent_variable=None, value_range=[3.0000935388576626, 11.999451344364768], name='distgen:t_dist:length:value', value=7.499772441611215, precision=None, default=7.499772441611215, is_constant=False),\n",
       " 'distgen:total_charge:value': ScalarInputVariable(variable_type='scalar', units='pC', parent_variable=None, value_range=[250.0, 250.0], name='distgen:total_charge:value', value=250.0, precision=None, default=250.0, is_constant=True),\n",
       " 'SOL1:solenoid_field_scale': ScalarInputVariable(variable_type='scalar', units='T', parent_variable=None, value_range=[0.15000051301097236, 0.29998391898360177], name='SOL1:solenoid_field_scale', value=0.17, precision=None, default=0.246, is_constant=False),\n",
       " 'CQ01:b1_gradient': ScalarInputVariable(variable_type='scalar', units='T/m', parent_variable=None, value_range=[-0.009999961444754046, 0.009997330500373847], name='CQ01:b1_gradient', value=-0.0074, precision=None, default=-0.0074, is_constant=False),\n",
       " 'SQ01:b1_gradient': ScalarInputVariable(variable_type='scalar', units='T/m', parent_variable=None, value_range=[-0.009999961444754046, 0.009997330500373847], name='SQ01:b1_gradient', value=-0.0074, precision=None, default=-0.0074, is_constant=False),\n",
       " 'L0A_phase:dtheta0_deg': ScalarInputVariable(variable_type='scalar', units='deg', parent_variable=None, value_range=[-24.999227856965984, 9.99975747834471], name='L0A_phase:dtheta0_deg', value=-8.8997, precision=None, default=-8.8997, is_constant=False),\n",
       " 'L0A_scale:voltage': ScalarInputVariable(variable_type='scalar', units='V', parent_variable=None, value_range=[70000000.0, 70000000.0], name='L0A_scale:voltage', value=70000000.0, precision=None, default=70000000.0, is_constant=True),\n",
       " 'end_mean_z': ScalarInputVariable(variable_type='scalar', units='m', parent_variable=None, value_range=[4.6143255, 4.6150749], name='end_mean_z', value=4.6147002, precision=None, default=4.6147002, is_constant=False)}"
      ]
     },
     "execution_count": 7,
     "metadata": {},
     "output_type": "execute_result"
    }
   ],
   "source": [
    "for key in formatted_input_vars:\n",
    "    if key in input :\n",
    "        formatted_input_vars[key].value = input[key]\n",
    "    else:\n",
    "        formatted_input_vars[key].value = 0\n",
    "formatted_input_vars"
   ]
  },
  {
   "cell_type": "code",
   "execution_count": 8,
   "id": "701f070a-961c-4e1f-8e20-218b6104beda",
   "metadata": {},
   "outputs": [
    {
     "name": "stdout",
     "output_type": "stream",
     "text": [
      "[array([[ 4.13000000e-01,  7.49977244e+00,  2.50000000e+02,\n",
      "         1.70000000e-01, -7.40000000e-03, -7.40000000e-03,\n",
      "        -8.89970000e+00,  7.00000000e+07,  4.61470020e+00]])]\n",
      "1/1 [==============================] - 1s 724ms/step\n"
     ]
    },
    {
     "name": "stderr",
     "output_type": "stream",
     "text": [
      "2023-08-01 21:30:27.310318: I tensorflow/compiler/xla/stream_executor/cuda/cuda_blas.cc:637] TensorFloat-32 will be used for the matrix multiplication. This will only be logged once.\n"
     ]
    },
    {
     "data": {
      "text/plain": [
       "{'distgen:r_dist:sigma_xy:value': ScalarInputVariable(variable_type='scalar', units='mm', parent_variable=None, value_range=[0.2000128411163704, 0.499960029319067], name='distgen:r_dist:sigma_xy:value', value=0.413, precision=None, default=0.413, is_constant=False),\n",
       " 'distgen:t_dist:length:value': ScalarInputVariable(variable_type='scalar', units='ps', parent_variable=None, value_range=[3.0000935388576626, 11.999451344364768], name='distgen:t_dist:length:value', value=7.499772441611215, precision=None, default=7.499772441611215, is_constant=False),\n",
       " 'distgen:total_charge:value': ScalarInputVariable(variable_type='scalar', units='pC', parent_variable=None, value_range=[250.0, 250.0], name='distgen:total_charge:value', value=250.0, precision=None, default=250.0, is_constant=True),\n",
       " 'SOL1:solenoid_field_scale': ScalarInputVariable(variable_type='scalar', units='T', parent_variable=None, value_range=[0.15000051301097236, 0.29998391898360177], name='SOL1:solenoid_field_scale', value=0.17, precision=None, default=0.246, is_constant=False),\n",
       " 'CQ01:b1_gradient': ScalarInputVariable(variable_type='scalar', units='T/m', parent_variable=None, value_range=[-0.009999961444754046, 0.009997330500373847], name='CQ01:b1_gradient', value=-0.0074, precision=None, default=-0.0074, is_constant=False),\n",
       " 'SQ01:b1_gradient': ScalarInputVariable(variable_type='scalar', units='T/m', parent_variable=None, value_range=[-0.009999961444754046, 0.009997330500373847], name='SQ01:b1_gradient', value=-0.0074, precision=None, default=-0.0074, is_constant=False),\n",
       " 'L0A_phase:dtheta0_deg': ScalarInputVariable(variable_type='scalar', units='deg', parent_variable=None, value_range=[-24.999227856965984, 9.99975747834471], name='L0A_phase:dtheta0_deg', value=-8.8997, precision=None, default=-8.8997, is_constant=False),\n",
       " 'L0A_scale:voltage': ScalarInputVariable(variable_type='scalar', units='V', parent_variable=None, value_range=[70000000.0, 70000000.0], name='L0A_scale:voltage', value=70000000.0, precision=None, default=70000000.0, is_constant=True),\n",
       " 'end_mean_z': ScalarInputVariable(variable_type='scalar', units='m', parent_variable=None, value_range=[4.6143255, 4.6150749], name='end_mean_z', value=4.6147002, precision=None, default=4.6147002, is_constant=False)}"
      ]
     },
     "execution_count": 8,
     "metadata": {},
     "output_type": "execute_result"
    }
   ],
   "source": [
    "output_variables = model.evaluate(formatted_input_vars)\n",
    "formatted_input_vars"
   ]
  },
  {
   "cell_type": "code",
   "execution_count": 9,
   "id": "0ecc6b66-815f-4d99-8fc8-87ebf4115767",
   "metadata": {},
   "outputs": [
    {
     "data": {
      "text/plain": [
       "{'end_n_particle': ScalarOutputVariable(variable_type='scalar', units='1', parent_variable=None, value_range=None, name='end_n_particle', value=9998.101, precision=None, default=None),\n",
       " 'end_mean_gamma': ScalarOutputVariable(variable_type='scalar', units='1', parent_variable=None, value_range=None, name='end_mean_gamma', value=147.09068, precision=None, default=None),\n",
       " 'end_sigma_gamma': ScalarOutputVariable(variable_type='scalar', units='1', parent_variable=None, value_range=None, name='end_sigma_gamma', value=0.54239374, precision=None, default=None),\n",
       " 'end_mean_x': ScalarOutputVariable(variable_type='scalar', units='m', parent_variable=None, value_range=None, name='end_mean_x', value=-1.0433723e-08, precision=None, default=None),\n",
       " 'end_mean_y': ScalarOutputVariable(variable_type='scalar', units='m', parent_variable=None, value_range=None, name='end_mean_y', value=-4.6587957e-08, precision=None, default=None),\n",
       " 'end_norm_emit_x': ScalarOutputVariable(variable_type='scalar', units='m', parent_variable=None, value_range=None, name='end_norm_emit_x', value=6.4917567e-06, precision=None, default=None),\n",
       " 'end_norm_emit_y': ScalarOutputVariable(variable_type='scalar', units='m', parent_variable=None, value_range=None, name='end_norm_emit_y', value=6.2211443e-06, precision=None, default=None),\n",
       " 'end_norm_emit_z': ScalarOutputVariable(variable_type='scalar', units='m', parent_variable=None, value_range=None, name='end_norm_emit_z', value=4.2888554e-05, precision=None, default=None),\n",
       " 'end_sigma_x': ScalarOutputVariable(variable_type='scalar', units='m', parent_variable=None, value_range=None, name='end_sigma_x', value=0.00035093023, precision=None, default=None),\n",
       " 'end_sigma_y': ScalarOutputVariable(variable_type='scalar', units='m', parent_variable=None, value_range=None, name='end_sigma_y', value=0.00035413538, precision=None, default=None),\n",
       " 'end_sigma_z': ScalarOutputVariable(variable_type='scalar', units='m', parent_variable=None, value_range=None, name='end_sigma_z', value=0.0005574141, precision=None, default=None),\n",
       " 'end_mean_px': ScalarOutputVariable(variable_type='scalar', units='eV/c', parent_variable=None, value_range=None, name='end_mean_px', value=-1.7315674, precision=None, default=None),\n",
       " 'end_mean_py': ScalarOutputVariable(variable_type='scalar', units='eV/c', parent_variable=None, value_range=None, name='end_mean_py', value=0.2567749, precision=None, default=None),\n",
       " 'end_mean_pz': ScalarOutputVariable(variable_type='scalar', units='eV/c', parent_variable=None, value_range=None, name='end_mean_pz', value=75161304.0, precision=None, default=None),\n",
       " 'end_sigma_px': ScalarOutputVariable(variable_type='scalar', units='eV/c', parent_variable=None, value_range=None, name='end_sigma_px', value=43132.39, precision=None, default=None),\n",
       " 'end_sigma_py': ScalarOutputVariable(variable_type='scalar', units='eV/c', parent_variable=None, value_range=None, name='end_sigma_py', value=43268.535, precision=None, default=None),\n",
       " 'end_sigma_pz': ScalarOutputVariable(variable_type='scalar', units='eV/c', parent_variable=None, value_range=None, name='end_sigma_pz', value=277180.06, precision=None, default=None),\n",
       " 'end_higher_order_energy_spread': ScalarOutputVariable(variable_type='scalar', units='eV', parent_variable=None, value_range=None, name='end_higher_order_energy_spread', value=3779.7986, precision=None, default=None),\n",
       " 'end_cov_x__px': ScalarOutputVariable(variable_type='scalar', units='m-eV/c', parent_variable=None, value_range=None, name='end_cov_x__px', value=-14.038162, precision=None, default=None),\n",
       " 'end_cov_y__py': ScalarOutputVariable(variable_type='scalar', units='m-eV/c', parent_variable=None, value_range=None, name='end_cov_y__py', value=-159.30188, precision=None, default=None),\n",
       " 'end_cov_z__pz': ScalarOutputVariable(variable_type='scalar', units='m-eV/c', parent_variable=None, value_range=None, name='end_cov_z__pz', value=-14.965645, precision=None, default=None),\n",
       " 'x:y': ImageOutputVariable(variable_type='image', axis_labels=['x', 'y'], axis_units=None, x_min_variable='out_xmin', x_max_variable='out_xmax', y_min_variable='out_ymin', y_max_variable='out_ymax', name='x:y', value=array([[-1.4806032e-15,  6.1908140e-16, -1.1807978e-16, ...,\n",
       "          4.3379665e-16,  8.6926820e-16, -2.7551949e-16],\n",
       "        [-3.7768781e-16,  1.0296390e-15, -1.1263639e-16, ...,\n",
       "         -1.8943011e-15, -1.3947651e-15,  1.2170174e-15],\n",
       "        [ 3.3162833e-16,  1.7146691e-15,  5.3094032e-16, ...,\n",
       "         -2.6337653e-16, -8.7345540e-16,  3.7454738e-16],\n",
       "        ...,\n",
       "        [-1.3851344e-15, -1.7251372e-15, -3.3958404e-15, ...,\n",
       "          2.3758321e-15,  1.2310445e-15,  7.5663177e-16],\n",
       "        [-8.7513030e-16, -4.9576759e-16, -4.6603827e-16, ...,\n",
       "          1.3374001e-15, -5.7699980e-16,  5.2424071e-16],\n",
       "        [ 1.1401817e-15,  1.6518608e-16,  4.9283654e-16, ...,\n",
       "          6.8398339e-16,  1.7942265e-16,  8.6005629e-16]], dtype=float32), precision=None, default=None, value_range=None, x_min=-0.010724568739533424, x_max=0.010775146074593067, y_min=-0.010956162586808205, y_max=0.010805758647620678),\n",
       " 'out_ymax': ScalarOutputVariable(variable_type='scalar', units=None, parent_variable='x:y', value_range=None, name='out_ymax', value=0.010805758647620678, precision=None, default=None),\n",
       " 'out_xmax': ScalarOutputVariable(variable_type='scalar', units=None, parent_variable='x:y', value_range=None, name='out_xmax', value=0.010775146074593067, precision=None, default=None),\n",
       " 'out_ymin': ScalarOutputVariable(variable_type='scalar', units=None, parent_variable='x:y', value_range=None, name='out_ymin', value=-0.010956162586808205, precision=None, default=None),\n",
       " 'out_xmin': ScalarOutputVariable(variable_type='scalar', units=None, parent_variable='x:y', value_range=None, name='out_xmin', value=-0.010724568739533424, precision=None, default=None)}"
      ]
     },
     "execution_count": 9,
     "metadata": {},
     "output_type": "execute_result"
    }
   ],
   "source": [
    "output_variables"
   ]
  },
  {
   "cell_type": "code",
   "execution_count": 10,
   "id": "422de57e-427b-4ee3-bfbe-5da159db4734",
   "metadata": {},
   "outputs": [],
   "source": [
    "import torch\n",
    "import matplotlib.pyplot as plt\n",
    "\n",
    "from lume_model.utils import variables_from_yaml\n",
    "from lume_model.torch import LUMEModule, PyTorchModel"
   ]
  },
  {
   "cell_type": "code",
   "execution_count": 11,
   "id": "1d8ae801-5d0d-42f3-892e-852b90174700",
   "metadata": {},
   "outputs": [],
   "source": [
    "input_transformer = torch.load(\"model/input_transformer.pt\")\n",
    "output_transformer = torch.load(\"model/output_transformer.pt\")"
   ]
  },
  {
   "cell_type": "code",
   "execution_count": 12,
   "id": "605872ca-c642-4311-88d3-ab4fc5f8805f",
   "metadata": {},
   "outputs": [],
   "source": [
    "input_variables, output_variables = variables_from_yaml(open(\"model/variables.yml\"))"
   ]
  },
  {
   "cell_type": "code",
   "execution_count": 18,
   "id": "4113cc65-d6eb-45c6-9ff8-8a332e21bd2e",
   "metadata": {},
   "outputs": [
    {
     "name": "stdout",
     "output_type": "stream",
     "text": [
      "16\n"
     ]
    },
    {
     "data": {
      "text/plain": [
       "dict_keys(['distgen:r_dist:sigma_xy:value', 'distgen:t_dist:length:value', 'distgen:total_charge:value', 'SOL1:solenoid_field_scale', 'CQ01:b1_gradient', 'SQ01:b1_gradient', 'L0A_scale:voltage', 'L0A_phase:dtheta0_deg', 'L0B_scale:voltage', 'L0B_phase:dtheta0_deg', 'QA01:b1_gradient', 'QA02:b1_gradient', 'QE01:b1_gradient', 'QE02:b1_gradient', 'QE03:b1_gradient', 'QE04:b1_gradient'])"
      ]
     },
     "execution_count": 18,
     "metadata": {},
     "output_type": "execute_result"
    }
   ],
   "source": [
    "print(len(input_variables.keys()))\n",
    "input_variables.keys()"
   ]
  },
  {
   "cell_type": "code",
   "execution_count": 14,
   "id": "45ac0e82-aee1-48db-a783-7b7ce93baf1d",
   "metadata": {},
   "outputs": [
    {
     "data": {
      "text/plain": [
       "LUMEModule(\n",
       "  (base_model): Sequential(\n",
       "    (0): Linear(in_features=16, out_features=100, bias=True)\n",
       "    (1): ELU(alpha=1.0)\n",
       "    (2): Linear(in_features=100, out_features=200, bias=True)\n",
       "    (3): ELU(alpha=1.0)\n",
       "    (4): Dropout(p=0.05, inplace=False)\n",
       "    (5): Linear(in_features=200, out_features=200, bias=True)\n",
       "    (6): ELU(alpha=1.0)\n",
       "    (7): Dropout(p=0.05, inplace=False)\n",
       "    (8): Linear(in_features=200, out_features=300, bias=True)\n",
       "    (9): ELU(alpha=1.0)\n",
       "    (10): Dropout(p=0.05, inplace=False)\n",
       "    (11): Linear(in_features=300, out_features=300, bias=True)\n",
       "    (12): ELU(alpha=1.0)\n",
       "    (13): Dropout(p=0.05, inplace=False)\n",
       "    (14): Linear(in_features=300, out_features=200, bias=True)\n",
       "    (15): ELU(alpha=1.0)\n",
       "    (16): Dropout(p=0.05, inplace=False)\n",
       "    (17): Linear(in_features=200, out_features=100, bias=True)\n",
       "    (18): ELU(alpha=1.0)\n",
       "    (19): Dropout(p=0.05, inplace=False)\n",
       "    (20): Linear(in_features=100, out_features=100, bias=True)\n",
       "    (21): ELU(alpha=1.0)\n",
       "    (22): Linear(in_features=100, out_features=100, bias=True)\n",
       "    (23): ELU(alpha=1.0)\n",
       "    (24): Linear(in_features=100, out_features=5, bias=True)\n",
       "  )\n",
       ")"
      ]
     },
     "execution_count": 14,
     "metadata": {},
     "output_type": "execute_result"
    }
   ],
   "source": [
    "# create lume model\n",
    "lume_model = PyTorchModel(\n",
    "    model_file=\"model/model.pt\",\n",
    "    input_variables=input_variables,\n",
    "    output_variables=output_variables,\n",
    "    input_transformers=[input_transformer],\n",
    "    output_transformers=[output_transformer],\n",
    ")\n",
    "lume_module = LUMEModule(\n",
    "    model=lume_model,\n",
    "    feature_order=lume_model.features,\n",
    "    output_order=lume_model.outputs,\n",
    ")\n",
    "lume_module"
   ]
  },
  {
   "cell_type": "code",
   "execution_count": 21,
   "id": "2e6e7961-53c3-4a6e-b022-50b65e5b2018",
   "metadata": {},
   "outputs": [],
   "source": [
    "input_torch = {\n",
    "                        \"distgen:r_dist:sigma_xy:value\": 0.4130,\n",
    "                        \"distgen:total_charge:value\": 250.0, \n",
    "                        \"distgen:t_dist:length:value\":7.499772441611215, \n",
    "                        \"SOL1:solenoid_field_scale\": 0.17, \n",
    "                        \"CQ01:b1_gradient\":-0.0074,\n",
    "                        \"SQ01:b1_gradient\": -0.0074,\n",
    "                        \"L0A_phase:dtheta0_deg\": -8.8997,\n",
    "                        \"L0A_scale:voltage\": 70000000.0,\n",
    "                        \"distgen:t_dist:length:value\": 7.499772441611215,\n",
    "\n",
    "                        \"L0B_scale:voltage\": 0,\n",
    "                        \"L0B_phase:dtheta0_deg\": 0,\n",
    "                        \"QA01:b1_gradient\": 0,\n",
    "                        \"QA02:b1_gradient\": 0,\n",
    "                        \"QE01:b1_gradient\": 0,\n",
    "                        \"QE02:b1_gradient\": 0,\n",
    "                        \"QE03:b1_gradient\": 0,\n",
    "                        \"QE04:b1_gradient\": 0                     \n",
    "}"
   ]
  },
  {
   "cell_type": "code",
   "execution_count": 30,
   "id": "05d9ef71-69c0-4f02-b708-2f8b469bb328",
   "metadata": {},
   "outputs": [],
   "source": [
    "all_input_values = []\n",
    "for key in input_torch:\n",
    "        all_input_values.append(input_torch[key])\n",
    "all_input_values = torch.Tensor([all_input_values])"
   ]
  },
  {
   "cell_type": "code",
   "execution_count": 31,
   "id": "77a399df-16a1-4394-8931-4245af69c563",
   "metadata": {},
   "outputs": [
    {
     "data": {
      "text/plain": [
       "tensor([[ 4.1300e-01,  2.5000e+02,  7.4998e+00,  1.7000e-01, -7.4000e-03,\n",
       "         -7.4000e-03, -8.8997e+00,  7.0000e+07,  0.0000e+00,  0.0000e+00,\n",
       "          0.0000e+00,  0.0000e+00,  0.0000e+00,  0.0000e+00,  0.0000e+00,\n",
       "          0.0000e+00]])"
      ]
     },
     "execution_count": 31,
     "metadata": {},
     "output_type": "execute_result"
    }
   ],
   "source": [
    "all_input_values"
   ]
  },
  {
   "cell_type": "code",
   "execution_count": 32,
   "id": "cf268ac5-459c-4ae1-9840-ef1dd5266cbf",
   "metadata": {},
   "outputs": [
    {
     "data": {
      "text/plain": [
       "tensor([-9.9168e+04,  2.2429e+05,  1.0245e+04,  6.5895e+01,  2.4669e+02],\n",
       "       dtype=torch.float64)"
      ]
     },
     "execution_count": 32,
     "metadata": {},
     "output_type": "execute_result"
    }
   ],
   "source": [
    "with torch.no_grad():\n",
    "    predictions = lume_module(all_input_values)\n",
    "predictions"
   ]
  },
  {
   "cell_type": "code",
   "execution_count": null,
   "id": "3f00e228-67a1-48fd-8c82-42487a04e58c",
   "metadata": {},
   "outputs": [],
   "source": []
  }
 ],
 "metadata": {
  "kernelspec": {
   "display_name": "Python [conda env:.conda-lume-lcls-cu-inj-nn-torch] *",
   "language": "python",
   "name": "conda-env-.conda-lume-lcls-cu-inj-nn-torch-py"
  },
  "language_info": {
   "codemirror_mode": {
    "name": "ipython",
    "version": 3
   },
   "file_extension": ".py",
   "mimetype": "text/x-python",
   "name": "python",
   "nbconvert_exporter": "python",
   "pygments_lexer": "ipython3",
   "version": "3.9.16"
  }
 },
 "nbformat": 4,
 "nbformat_minor": 5
}
