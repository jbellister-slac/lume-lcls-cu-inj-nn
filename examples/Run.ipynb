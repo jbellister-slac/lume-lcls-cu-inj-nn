{
 "cells": [
  {
   "cell_type": "markdown",
   "id": "a0aeb04c",
   "metadata": {},
   "source": [
    "# LUME-services demo\n",
    "In this notebook, we will configure LUME-services to use the service configuration used to launch our docker-compose services. Make sure you've completed all steps outlined in https://slaclab.github.io/lume-services/demo/."
   ]
  },
  {
   "cell_type": "code",
   "execution_count": 1,
   "id": "3b0cfe6a",
   "metadata": {},
   "outputs": [],
   "source": [
    "import logging\n",
    "logging.basicConfig(level=logging.INFO)  # Lets check the logs"
   ]
  },
  {
   "cell_type": "markdown",
   "id": "88cb7294",
   "metadata": {},
   "source": [
    "## Configure services\n",
    "LUME-services is packages with a configuration utility that reads environment variables and initializes services:"
   ]
  },
  {
   "cell_type": "code",
   "execution_count": 2,
   "id": "3c1e88af",
   "metadata": {},
   "outputs": [
    {
     "name": "stderr",
     "output_type": "stream",
     "text": [
      "INFO:lume_services.config:Configuring LUME-services environment...\n",
      "INFO:lume_services.config:Environment configured.\n"
     ]
    }
   ],
   "source": [
    "from lume_services import config\n",
    "config.configure()"
   ]
  },
  {
   "cell_type": "markdown",
   "id": "e14910cc",
   "metadata": {},
   "source": [
    "## if you're running this many time, creation will fail because of uniqueness... You can reset since this is a dev server"
   ]
  },
  {
   "cell_type": "code",
   "execution_count": 3,
   "id": "b1dae5e5",
   "metadata": {},
   "outputs": [],
   "source": [
    "#model_db_service._reset()"
   ]
  },
  {
   "cell_type": "markdown",
   "id": "0d4ba844",
   "metadata": {},
   "source": [
    "## Create a model\n",
    "The LUME-services Model provides an API to all model services and facilitates all model operations."
   ]
  },
  {
   "cell_type": "code",
   "execution_count": 4,
   "id": "299e5321",
   "metadata": {},
   "outputs": [
    {
     "name": "stderr",
     "output_type": "stream",
     "text": [
      "INFO:lume_services.services.models.db.db:ModelDB selecting: SELECT model.model_id, model.created, model.author, model.laboratory, model.facility, model.beampath, model.description \n",
      "FROM model \n",
      "WHERE model.author = :author_1 AND model.laboratory = :laboratory_1 AND model.facility = :facility_1 AND model.beampath = :beampath_1 AND model.description = :description_1\n",
      "INFO:lume_services.services.models.db.db:ModelDB inserting: INSERT INTO model (author, laboratory, facility, beampath, description) VALUES (:author, :laboratory, :facility, :beampath, :description)\n",
      "INFO:lume_services.services.models.db.db:Sucessfully executed: INSERT INTO model (author, laboratory, facility, beampath, description) VALUES (:author, :laboratory, :facility, :beampath, :description)\n",
      "INFO:lume_services.services.models.db.db:ModelDB selecting: SELECT model.model_id, model.created, model.author, model.laboratory, model.facility, model.beampath, model.description \n",
      "FROM model \n",
      "WHERE model.model_id = :model_id_1\n"
     ]
    },
    {
     "data": {
      "text/plain": [
       "Model(metadata=Model(                     model_id=1,                     created=datetime.datetime(2023, 8, 2, 18, 25, 39),                     author='Aman Singh Thakur'),                     laboratory='slac',                     facility='lcls',                     beampath='cu',                     description='lcls-cu-inj-nn'                 ), deployment=None, results=None)"
      ]
     },
     "execution_count": 4,
     "metadata": {},
     "output_type": "execute_result"
    }
   ],
   "source": [
    "from lume_services.models import Model\n",
    "\n",
    "model = Model.create_model(\n",
    "    author = \"Aman Singh Thakur\",\n",
    "    laboratory = \"slac\",\n",
    "    facility = \"lcls\",\n",
    "    beampath = \"cu\",\n",
    "    description = \"lcls-cu-inj-nn\"\n",
    ")\n",
    "model"
   ]
  },
  {
   "cell_type": "markdown",
   "id": "3088ad03",
   "metadata": {},
   "source": [
    "## Create a project\n",
    "Workflows are organized by the Prefect scheduler into different projects. Below, we access the configured services directly (TODO create project registry utility)"
   ]
  },
  {
   "cell_type": "code",
   "execution_count": 5,
   "id": "5b7a075b",
   "metadata": {},
   "outputs": [],
   "source": [
    "model_db_service = config.context.model_db_service()\n",
    "scheduling_service = config.context.scheduling_service()"
   ]
  },
  {
   "cell_type": "code",
   "execution_count": 6,
   "id": "a3c31d82",
   "metadata": {},
   "outputs": [],
   "source": [
    "### NOTE: The below cell will raise an error if run 2x"
   ]
  },
  {
   "cell_type": "code",
   "execution_count": 7,
   "id": "bcd2f83f",
   "metadata": {},
   "outputs": [
    {
     "name": "stderr",
     "output_type": "stream",
     "text": [
      "INFO:lume_services.services.models.db.db:ModelDB inserting: INSERT INTO project (project_name, description) VALUES (:project_name, :description)\n",
      "INFO:lume_services.services.models.db.db:Sucessfully executed: INSERT INTO project (project_name, description) VALUES (:project_name, :description)\n"
     ]
    }
   ],
   "source": [
    "# create a project\n",
    "project_name = model_db_service.store_project(\n",
    "    project_name=\"gpu-new-box\", description=\"my_description\"\n",
    ")\n",
    "scheduling_service.create_project(\"gpu-new-box\")"
   ]
  },
  {
   "cell_type": "markdown",
   "id": "3abbe01a",
   "metadata": {},
   "source": [
    "You can now find this project in you Prefect UI at http://localhost:8080\n",
    "\n",
    "\n",
    "![project](https://slaclab.github.io/lume-services/files/project_nav.png)"
   ]
  },
  {
   "cell_type": "markdown",
   "id": "bc23acff",
   "metadata": {},
   "source": [
    "## Create a deployment for your model\n",
    "Replace `source_path` with the path to your release tarball below:"
   ]
  },
  {
   "cell_type": "code",
   "execution_count": 8,
   "id": "2346c829",
   "metadata": {},
   "outputs": [
    {
     "name": "stderr",
     "output_type": "stream",
     "text": [
      "INFO:lume_services.models.model:installing package\n",
      "INFO:lume_services.environment.solver:https://github.com/singh96aman/lume-lcls-cu-inj-nn/releases/download/v0.0.35/lume_lcls_cu_inj_nn-0.0.35.tar.gz saved to /tmp/tmp5xi8f1wy/lume_lcls_cu_inj_nn-0.0.35.tar.gz\n",
      "INFO:lume_services.environment.solver:Uninstall complete\n",
      "INFO:lume_services.environment.solver:Installing dependencies...\n",
      "\n",
      "\n",
      "==> WARNING: A newer version of conda exists. <==\n",
      "  current version: 23.1.0\n",
      "  latest version: 23.7.2\n",
      "\n",
      "Please update conda by running\n",
      "\n",
      "    $ conda update -n base -c conda-forge conda\n",
      "\n",
      "Or to minimize the number of packages updated during conda update use\n",
      "\n",
      "     conda install conda=23.7.2\n",
      "\n",
      "\n",
      "INFO:lume_services.environment.solver:Dependency installation complete\n",
      "INFO:lume_services.environment.solver:https://github.com/singh96aman/lume-lcls-cu-inj-nn/releases/download/v0.0.35/lume_lcls_cu_inj_nn-0.0.35.tar.gz saved to /tmp/tmpr7toolk2/lume_lcls_cu_inj_nn-0.0.35.tar.gz\n"
     ]
    },
    {
     "name": "stdout",
     "output_type": "stream",
     "text": [
      "['/home/thakur12/.conda/envs/lume-lcls-cu-inj-nn-torch/bin/python', '-m', 'pip', 'install', '--no-deps', '-v', '/tmp/tmpr7toolk2/lume_lcls_cu_inj_nn-0.0.35.tar.gz']\n"
     ]
    },
    {
     "name": "stderr",
     "output_type": "stream",
     "text": [
      "  Running command python setup.py egg_info\n",
      "  running egg_info\n",
      "  creating /tmp/pip-pip-egg-info-lh1vkxe1/lume_lcls_cu_inj_nn.egg-info\n",
      "  writing /tmp/pip-pip-egg-info-lh1vkxe1/lume_lcls_cu_inj_nn.egg-info/PKG-INFO\n",
      "  writing dependency_links to /tmp/pip-pip-egg-info-lh1vkxe1/lume_lcls_cu_inj_nn.egg-info/dependency_links.txt\n",
      "  writing entry points to /tmp/pip-pip-egg-info-lh1vkxe1/lume_lcls_cu_inj_nn.egg-info/entry_points.txt\n",
      "  writing requirements to /tmp/pip-pip-egg-info-lh1vkxe1/lume_lcls_cu_inj_nn.egg-info/requires.txt\n",
      "  writing top-level names to /tmp/pip-pip-egg-info-lh1vkxe1/lume_lcls_cu_inj_nn.egg-info/top_level.txt\n",
      "  writing manifest file '/tmp/pip-pip-egg-info-lh1vkxe1/lume_lcls_cu_inj_nn.egg-info/SOURCES.txt'\n",
      "  reading manifest file '/tmp/pip-pip-egg-info-lh1vkxe1/lume_lcls_cu_inj_nn.egg-info/SOURCES.txt'\n",
      "  reading manifest template 'MANIFEST.in'\n",
      "  warning: no files found matching 'LICENSE'\n",
      "  writing manifest file '/tmp/pip-pip-egg-info-lh1vkxe1/lume_lcls_cu_inj_nn.egg-info/SOURCES.txt'\n",
      "  Running command python setup.py bdist_wheel\n",
      "  running bdist_wheel\n",
      "  running build\n",
      "  running build_py\n",
      "  creating build\n",
      "  creating build/lib\n",
      "  creating build/lib/lume_lcls_cu_inj_nn\n",
      "  copying lume_lcls_cu_inj_nn/model.py -> build/lib/lume_lcls_cu_inj_nn\n",
      "  copying lume_lcls_cu_inj_nn/__init__.py -> build/lib/lume_lcls_cu_inj_nn\n",
      "  copying lume_lcls_cu_inj_nn/_version.py -> build/lib/lume_lcls_cu_inj_nn\n",
      "  copying lume_lcls_cu_inj_nn/flow.py -> build/lib/lume_lcls_cu_inj_nn\n",
      "  copying lume_lcls_cu_inj_nn/_image.py -> build/lib/lume_lcls_cu_inj_nn\n",
      "  creating build/lib/lume_lcls_cu_inj_nn/files\n",
      "  copying lume_lcls_cu_inj_nn/files/__init__.py -> build/lib/lume_lcls_cu_inj_nn/files\n",
      "  creating build/lib/lume_lcls_cu_inj_nn/tests\n",
      "  copying lume_lcls_cu_inj_nn/tests/__init__.py -> build/lib/lume_lcls_cu_inj_nn/tests\n",
      "  copying lume_lcls_cu_inj_nn/tests/test_flow.py -> build/lib/lume_lcls_cu_inj_nn/tests\n",
      "  running egg_info\n",
      "  writing lume_lcls_cu_inj_nn.egg-info/PKG-INFO\n",
      "  writing dependency_links to lume_lcls_cu_inj_nn.egg-info/dependency_links.txt\n",
      "  writing entry points to lume_lcls_cu_inj_nn.egg-info/entry_points.txt\n",
      "  writing requirements to lume_lcls_cu_inj_nn.egg-info/requires.txt\n",
      "  writing top-level names to lume_lcls_cu_inj_nn.egg-info/top_level.txt\n",
      "  reading manifest file 'lume_lcls_cu_inj_nn.egg-info/SOURCES.txt'\n",
      "  reading manifest template 'MANIFEST.in'\n",
      "  warning: no files found matching 'LICENSE'\n",
      "  writing manifest file 'lume_lcls_cu_inj_nn.egg-info/SOURCES.txt'\n",
      "  copying lume_lcls_cu_inj_nn/files/cu_inj_impact.csv -> build/lib/lume_lcls_cu_inj_nn/files\n",
      "  copying lume_lcls_cu_inj_nn/files/epics_config.yml -> build/lib/lume_lcls_cu_inj_nn/files\n",
      "  copying lume_lcls_cu_inj_nn/files/model_1b_AS_f_xy.h5 -> build/lib/lume_lcls_cu_inj_nn/files\n",
      "  copying lume_lcls_cu_inj_nn/files/variables.yml -> build/lib/lume_lcls_cu_inj_nn/files\n",
      "  UPDATING build/lib/lume_lcls_cu_inj_nn/_version.py\n",
      "  set build/lib/lume_lcls_cu_inj_nn/_version.py to '0.0.35'\n",
      "  /home/thakur12/.conda/envs/lume-lcls-cu-inj-nn-torch/lib/python3.9/site-packages/setuptools/_distutils/cmd.py:66: SetuptoolsDeprecationWarning: setup.py install is deprecated.\n",
      "  !!\n",
      "\n",
      "          ********************************************************************************\n",
      "          Please avoid running ``setup.py`` directly.\n",
      "          Instead, use pypa/build, pypa/installer or other\n",
      "          standards-based tools.\n",
      "\n",
      "          See https://blog.ganssle.io/articles/2021/10/setup-py-deprecated.html for details.\n",
      "          ********************************************************************************\n",
      "\n",
      "  !!\n",
      "    self.initialize_options()\n",
      "  installing to build/bdist.linux-x86_64/wheel\n",
      "  running install\n",
      "  running install_lib\n",
      "  creating build/bdist.linux-x86_64\n",
      "  creating build/bdist.linux-x86_64/wheel\n",
      "  creating build/bdist.linux-x86_64/wheel/lume_lcls_cu_inj_nn\n",
      "  creating build/bdist.linux-x86_64/wheel/lume_lcls_cu_inj_nn/files\n",
      "  copying build/lib/lume_lcls_cu_inj_nn/files/__init__.py -> build/bdist.linux-x86_64/wheel/lume_lcls_cu_inj_nn/files\n",
      "  copying build/lib/lume_lcls_cu_inj_nn/files/cu_inj_impact.csv -> build/bdist.linux-x86_64/wheel/lume_lcls_cu_inj_nn/files\n",
      "  copying build/lib/lume_lcls_cu_inj_nn/files/variables.yml -> build/bdist.linux-x86_64/wheel/lume_lcls_cu_inj_nn/files\n",
      "  copying build/lib/lume_lcls_cu_inj_nn/files/epics_config.yml -> build/bdist.linux-x86_64/wheel/lume_lcls_cu_inj_nn/files\n",
      "  copying build/lib/lume_lcls_cu_inj_nn/files/model_1b_AS_f_xy.h5 -> build/bdist.linux-x86_64/wheel/lume_lcls_cu_inj_nn/files\n",
      "  copying build/lib/lume_lcls_cu_inj_nn/model.py -> build/bdist.linux-x86_64/wheel/lume_lcls_cu_inj_nn\n",
      "  copying build/lib/lume_lcls_cu_inj_nn/__init__.py -> build/bdist.linux-x86_64/wheel/lume_lcls_cu_inj_nn\n",
      "  creating build/bdist.linux-x86_64/wheel/lume_lcls_cu_inj_nn/tests\n",
      "  copying build/lib/lume_lcls_cu_inj_nn/tests/__init__.py -> build/bdist.linux-x86_64/wheel/lume_lcls_cu_inj_nn/tests\n",
      "  copying build/lib/lume_lcls_cu_inj_nn/tests/test_flow.py -> build/bdist.linux-x86_64/wheel/lume_lcls_cu_inj_nn/tests\n",
      "  copying build/lib/lume_lcls_cu_inj_nn/_version.py -> build/bdist.linux-x86_64/wheel/lume_lcls_cu_inj_nn\n",
      "  copying build/lib/lume_lcls_cu_inj_nn/flow.py -> build/bdist.linux-x86_64/wheel/lume_lcls_cu_inj_nn\n",
      "  copying build/lib/lume_lcls_cu_inj_nn/_image.py -> build/bdist.linux-x86_64/wheel/lume_lcls_cu_inj_nn\n",
      "  running install_egg_info\n",
      "  Copying lume_lcls_cu_inj_nn.egg-info to build/bdist.linux-x86_64/wheel/lume_lcls_cu_inj_nn-0.0.35-py3.9.egg-info\n",
      "  running install_scripts\n",
      "  creating build/bdist.linux-x86_64/wheel/lume_lcls_cu_inj_nn-0.0.35.dist-info/WHEEL\n",
      "  creating '/tmp/pip-wheel-t98gkepc/lume_lcls_cu_inj_nn-0.0.35-py3-none-any.whl' and adding 'build/bdist.linux-x86_64/wheel' to it\n",
      "  adding 'lume_lcls_cu_inj_nn/__init__.py'\n",
      "  adding 'lume_lcls_cu_inj_nn/_image.py'\n",
      "  adding 'lume_lcls_cu_inj_nn/_version.py'\n",
      "  adding 'lume_lcls_cu_inj_nn/flow.py'\n",
      "  adding 'lume_lcls_cu_inj_nn/model.py'\n",
      "  adding 'lume_lcls_cu_inj_nn/files/__init__.py'\n",
      "  adding 'lume_lcls_cu_inj_nn/files/cu_inj_impact.csv'\n",
      "  adding 'lume_lcls_cu_inj_nn/files/epics_config.yml'\n",
      "  adding 'lume_lcls_cu_inj_nn/files/model_1b_AS_f_xy.h5'\n",
      "  adding 'lume_lcls_cu_inj_nn/files/variables.yml'\n",
      "  adding 'lume_lcls_cu_inj_nn/tests/__init__.py'\n",
      "  adding 'lume_lcls_cu_inj_nn/tests/test_flow.py'\n",
      "  adding 'lume_lcls_cu_inj_nn-0.0.35.dist-info/METADATA'\n",
      "  adding 'lume_lcls_cu_inj_nn-0.0.35.dist-info/WHEEL'\n",
      "  adding 'lume_lcls_cu_inj_nn-0.0.35.dist-info/entry_points.txt'\n",
      "  adding 'lume_lcls_cu_inj_nn-0.0.35.dist-info/top_level.txt'\n",
      "  adding 'lume_lcls_cu_inj_nn-0.0.35.dist-info/RECORD'\n",
      "  removing build/bdist.linux-x86_64/wheel\n",
      "INFO:lume_services.environment.solver:Dependency installation complete\n",
      "2023-08-02 11:26:49.986144: I tensorflow/core/platform/cpu_feature_guard.cc:182] This TensorFlow binary is optimized to use available CPU instructions in performance-critical operations.\n",
      "To enable the following instructions: SSE4.1 SSE4.2 AVX AVX2 FMA, in other operations, rebuild TensorFlow with the appropriate compiler flags.\n",
      "INFO:lume_services.services.models.db.db:ModelDB selecting: SELECT deployment.deployment_id, deployment.version, deployment.deploy_date, deployment.package_import_name, deployment.asset_dir, deployment.source, deployment.sha256, deployment.image, deployment.is_live, deployment.model_id \n",
      "FROM deployment \n",
      "WHERE deployment.model_id = :model_id_1 AND deployment.version = :version_1\n",
      "INFO:lume_services.services.models.db.db:ModelDB inserting: INSERT INTO deployment (version, package_import_name, asset_dir, source, sha256, image, is_live, model_id) VALUES (:version, :package_import_name, :asset_dir, :source, :sha256, :image, :is_live, :model_id)\n",
      "INFO:lume_services.services.models.db.db:Sucessfully executed: INSERT INTO deployment (version, package_import_name, asset_dir, source, sha256, image, is_live, model_id) VALUES (:version, :package_import_name, :asset_dir, :source, :sha256, :image, :is_live, :model_id)\n",
      "INFO:lume_services.services.models.db.db:ModelDB selecting: SELECT flow.flow_id, flow.flow_name, flow.project_name, flow.deployment_id \n",
      "FROM flow \n",
      "WHERE flow.deployment_id = :deployment_id_1\n",
      "INFO:lume_services.services.scheduling.backends.server:Flow run config is not empty. Clearing existing labels and assigning                     new.\n",
      "/home/thakur12/.conda/envs/lume-lcls-cu-inj-nn-torch/lib/python3.9/site-packages/prefect/core/flow.py:1726: UserWarning: No result handler was specified on your Flow. Cloud features such as input caching and resuming task runs from failure may not work properly.\n",
      "  registered_flow = client.register(\n",
      "INFO:lume_services.services.models.db.db:ModelDB inserting: INSERT INTO flow (flow_id, flow_name, project_name, deployment_id) VALUES (:flow_id, :flow_name, :project_name, :deployment_id)\n",
      "INFO:lume_services.services.models.db.db:Sucessfully executed: INSERT INTO flow (flow_id, flow_name, project_name, deployment_id) VALUES (:flow_id, :flow_name, :project_name, :deployment_id)\n",
      "INFO:lume_services.models.model:Loading deployment 1\n",
      "INFO:lume_services.models.model:Loading deployment 1\n",
      "INFO:lume_services.services.models.db.db:ModelDB selecting: SELECT deployment.deployment_id, deployment.version, deployment.deploy_date, deployment.package_import_name, deployment.asset_dir, deployment.source, deployment.sha256, deployment.image, deployment.is_live, deployment.model_id \n",
      "FROM deployment \n",
      "WHERE deployment.model_id = :model_id_1 AND deployment.deployment_id = :deployment_id_1\n"
     ]
    },
    {
     "name": "stdout",
     "output_type": "stream",
     "text": [
      "Inside flow\n",
      "Hey1\n",
      "<Task: prepare_lume_model_variables>\n",
      "Flow URL: http://localhost:8080/default/flow/4961b7d5-e62f-417f-9d9e-5d0eaaef5473\n",
      " └── ID: 91d2bda4-7ae3-4175-ae22-d8d99be69d4c\n",
      " └── Project: gpu-new-box\n",
      " └── Labels: ['lume-services']\n"
     ]
    },
    {
     "name": "stderr",
     "output_type": "stream",
     "text": [
      "INFO:lume_services.models.model:Deployment loaded.\n",
      "INFO:lume_services.services.models.db.db:ModelDB selecting: SELECT flow.flow_id, flow.flow_name, flow.project_name, flow.deployment_id \n",
      "FROM flow \n",
      "WHERE flow.deployment_id = :deployment_id_1\n",
      "INFO:lume_services.services.models.db.db:ModelDB selecting: SELECT project.project_name, project.description \n",
      "FROM project \n",
      "WHERE project.project_name = :project_name_1\n",
      "INFO:lume_services.services.models.db.db:ModelDB selecting: SELECT flow_of_flows._id, flow_of_flows.parent_flow_id, flow_of_flows.flow_id, flow_of_flows.position \n",
      "FROM flow_of_flows \n",
      "WHERE flow_of_flows.parent_flow_id = :parent_flow_id_1\n"
     ]
    },
    {
     "data": {
      "text/plain": [
       "Model(metadata=Model(                     model_id=1,                     created=datetime.datetime(2023, 8, 2, 18, 25, 39),                     author='Aman Singh Thakur'),                     laboratory='slac',                     facility='lcls',                     beampath='cu',                     description='lcls-cu-inj-nn'                 ), deployment=Deployment(metadata=Deployment(                 deployment_id=1,                 model_id=1,                 version='0.0.35',                 deploy_date=datetime.datetime(2023, 8, 2, 18, 26, 52)),                 asset_dir=None,                 source='https://github.com/singh96aman/lume-lcls-cu-inj-nn/releases/download/v0.0.35/lume_lcls_cu_inj_nn-0.0.35.tar.gz',                 sha256='648ec5aad9edf84301d76de7780d3b171968f8ed395146ffd55102df78cea02d',                 image='scr.svc.stanford.edu/aman96/lume-lcls-cu-inj-nn:v0.0.35',                 is_live=True                 package_import_name='lume_lcls_cu_inj_nn'                 ), project=Project(metadata=Project(                 project_name='gpu-new-box',                 description='my_description',                 )), flow=Flow(name='lume-lcls-cu-inj-nn', flow_id='91d2bda4-7ae3-4175-ae22-d8d99be69d4c', project_name='gpu-new-box', prefect_flow=<Flow: name=\"lume-lcls-cu-inj-nn\">, parameters=None, mapped_parameters=None, task_slugs=None, labels=['lume-services'], image='scr.svc.stanford.edu/aman96/lume-lcls-cu-inj-nn:v0.0.35'), model_type=<class 'lume_lcls_cu_inj_nn.model.LCLSCuInjNN'>), results=None)"
      ]
     },
     "execution_count": 8,
     "metadata": {},
     "output_type": "execute_result"
    }
   ],
   "source": [
    "#source_path = \"https://github.com/jacquelinegarrahan/lume-lcls-cu-inj-nn/releases/download/v0.0.12/lume_lcls_cu_inj_nn-0.0.12.tar.gz\"\n",
    "\n",
    "source_path = \"https://github.com/singh96aman/lume-lcls-cu-inj-nn/releases/download/v0.0.35/lume_lcls_cu_inj_nn-0.0.35.tar.gz\"\n",
    "\n",
    "# populates local channel\n",
    "model.store_deployment(source_path, project_name=\"gpu-new-box\")\n",
    "model"
   ]
  },
  {
   "cell_type": "markdown",
   "id": "690f0c1c",
   "metadata": {},
   "source": [
    "## Run the Prefect workflow directly"
   ]
  },
  {
   "cell_type": "code",
   "execution_count": 65,
   "id": "514e0aeb",
   "metadata": {},
   "outputs": [
    {
     "name": "stdout",
     "output_type": "stream",
     "text": [
      "[2023-08-02 12:42:30-0700] INFO - prefect.FlowRunner | Beginning Flow run for 'lume-lcls-cu-inj-nn'\n"
     ]
    },
    {
     "name": "stderr",
     "output_type": "stream",
     "text": [
      "INFO:prefect.FlowRunner:Beginning Flow run for 'lume-lcls-cu-inj-nn'\n"
     ]
    },
    {
     "name": "stdout",
     "output_type": "stream",
     "text": [
      "[2023-08-02 12:42:30-0700] INFO - prefect.TaskRunner | Task 'distgen:t_dist:length:value': Starting task run...\n"
     ]
    },
    {
     "name": "stderr",
     "output_type": "stream",
     "text": [
      "INFO:prefect.TaskRunner:Task 'distgen:t_dist:length:value': Starting task run...\n"
     ]
    },
    {
     "name": "stdout",
     "output_type": "stream",
     "text": [
      "[2023-08-02 12:42:30-0700] INFO - prefect.TaskRunner | Task 'distgen:t_dist:length:value': Finished task run for task with final state: 'Success'\n"
     ]
    },
    {
     "name": "stderr",
     "output_type": "stream",
     "text": [
      "INFO:prefect.TaskRunner:Task 'distgen:t_dist:length:value': Finished task run for task with final state: 'Success'\n"
     ]
    },
    {
     "name": "stdout",
     "output_type": "stream",
     "text": [
      "[2023-08-02 12:42:30-0700] INFO - prefect.TaskRunner | Task 'SQ01:b1_gradient': Starting task run...\n"
     ]
    },
    {
     "name": "stderr",
     "output_type": "stream",
     "text": [
      "INFO:prefect.TaskRunner:Task 'SQ01:b1_gradient': Starting task run...\n"
     ]
    },
    {
     "name": "stdout",
     "output_type": "stream",
     "text": [
      "[2023-08-02 12:42:30-0700] INFO - prefect.TaskRunner | Task 'SQ01:b1_gradient': Finished task run for task with final state: 'Success'\n"
     ]
    },
    {
     "name": "stderr",
     "output_type": "stream",
     "text": [
      "INFO:prefect.TaskRunner:Task 'SQ01:b1_gradient': Finished task run for task with final state: 'Success'\n"
     ]
    },
    {
     "name": "stdout",
     "output_type": "stream",
     "text": [
      "[2023-08-02 12:42:30-0700] INFO - prefect.TaskRunner | Task 'QA02:b1_gradient': Starting task run...\n"
     ]
    },
    {
     "name": "stderr",
     "output_type": "stream",
     "text": [
      "INFO:prefect.TaskRunner:Task 'QA02:b1_gradient': Starting task run...\n"
     ]
    },
    {
     "name": "stdout",
     "output_type": "stream",
     "text": [
      "[2023-08-02 12:42:30-0700] INFO - prefect.TaskRunner | Task 'QA02:b1_gradient': Finished task run for task with final state: 'Success'\n"
     ]
    },
    {
     "name": "stderr",
     "output_type": "stream",
     "text": [
      "INFO:prefect.TaskRunner:Task 'QA02:b1_gradient': Finished task run for task with final state: 'Success'\n"
     ]
    },
    {
     "name": "stdout",
     "output_type": "stream",
     "text": [
      "[2023-08-02 12:42:30-0700] INFO - prefect.TaskRunner | Task 'QE01:b1_gradient': Starting task run...\n"
     ]
    },
    {
     "name": "stderr",
     "output_type": "stream",
     "text": [
      "INFO:prefect.TaskRunner:Task 'QE01:b1_gradient': Starting task run...\n"
     ]
    },
    {
     "name": "stdout",
     "output_type": "stream",
     "text": [
      "[2023-08-02 12:42:30-0700] INFO - prefect.TaskRunner | Task 'QE01:b1_gradient': Finished task run for task with final state: 'Success'\n"
     ]
    },
    {
     "name": "stderr",
     "output_type": "stream",
     "text": [
      "INFO:prefect.TaskRunner:Task 'QE01:b1_gradient': Finished task run for task with final state: 'Success'\n"
     ]
    },
    {
     "name": "stdout",
     "output_type": "stream",
     "text": [
      "[2023-08-02 12:42:30-0700] INFO - prefect.TaskRunner | Task 'QE04:b1_gradient': Starting task run...\n"
     ]
    },
    {
     "name": "stderr",
     "output_type": "stream",
     "text": [
      "INFO:prefect.TaskRunner:Task 'QE04:b1_gradient': Starting task run...\n"
     ]
    },
    {
     "name": "stdout",
     "output_type": "stream",
     "text": [
      "[2023-08-02 12:42:30-0700] INFO - prefect.TaskRunner | Task 'QE04:b1_gradient': Finished task run for task with final state: 'Success'\n"
     ]
    },
    {
     "name": "stderr",
     "output_type": "stream",
     "text": [
      "INFO:prefect.TaskRunner:Task 'QE04:b1_gradient': Finished task run for task with final state: 'Success'\n"
     ]
    },
    {
     "name": "stdout",
     "output_type": "stream",
     "text": [
      "[2023-08-02 12:42:30-0700] INFO - prefect.TaskRunner | Task 'distgen:total_charge:value': Starting task run...\n"
     ]
    },
    {
     "name": "stderr",
     "output_type": "stream",
     "text": [
      "INFO:prefect.TaskRunner:Task 'distgen:total_charge:value': Starting task run...\n"
     ]
    },
    {
     "name": "stdout",
     "output_type": "stream",
     "text": [
      "[2023-08-02 12:42:30-0700] INFO - prefect.TaskRunner | Task 'distgen:total_charge:value': Finished task run for task with final state: 'Success'\n"
     ]
    },
    {
     "name": "stderr",
     "output_type": "stream",
     "text": [
      "INFO:prefect.TaskRunner:Task 'distgen:total_charge:value': Finished task run for task with final state: 'Success'\n"
     ]
    },
    {
     "name": "stdout",
     "output_type": "stream",
     "text": [
      "[2023-08-02 12:42:30-0700] INFO - prefect.TaskRunner | Task 'L0A_scale:voltage': Starting task run...\n"
     ]
    },
    {
     "name": "stderr",
     "output_type": "stream",
     "text": [
      "INFO:prefect.TaskRunner:Task 'L0A_scale:voltage': Starting task run...\n"
     ]
    },
    {
     "name": "stdout",
     "output_type": "stream",
     "text": [
      "[2023-08-02 12:42:30-0700] INFO - prefect.TaskRunner | Task 'L0A_scale:voltage': Finished task run for task with final state: 'Success'\n"
     ]
    },
    {
     "name": "stderr",
     "output_type": "stream",
     "text": [
      "INFO:prefect.TaskRunner:Task 'L0A_scale:voltage': Finished task run for task with final state: 'Success'\n"
     ]
    },
    {
     "name": "stdout",
     "output_type": "stream",
     "text": [
      "[2023-08-02 12:42:30-0700] INFO - prefect.TaskRunner | Task 'L0B_scale:voltage': Starting task run...\n"
     ]
    },
    {
     "name": "stderr",
     "output_type": "stream",
     "text": [
      "INFO:prefect.TaskRunner:Task 'L0B_scale:voltage': Starting task run...\n"
     ]
    },
    {
     "name": "stdout",
     "output_type": "stream",
     "text": [
      "[2023-08-02 12:42:30-0700] INFO - prefect.TaskRunner | Task 'L0B_scale:voltage': Finished task run for task with final state: 'Success'\n"
     ]
    },
    {
     "name": "stderr",
     "output_type": "stream",
     "text": [
      "INFO:prefect.TaskRunner:Task 'L0B_scale:voltage': Finished task run for task with final state: 'Success'\n"
     ]
    },
    {
     "name": "stdout",
     "output_type": "stream",
     "text": [
      "[2023-08-02 12:42:30-0700] INFO - prefect.TaskRunner | Task 'QE02:b1_gradient': Starting task run...\n"
     ]
    },
    {
     "name": "stderr",
     "output_type": "stream",
     "text": [
      "INFO:prefect.TaskRunner:Task 'QE02:b1_gradient': Starting task run...\n"
     ]
    },
    {
     "name": "stdout",
     "output_type": "stream",
     "text": [
      "[2023-08-02 12:42:30-0700] INFO - prefect.TaskRunner | Task 'QE02:b1_gradient': Finished task run for task with final state: 'Success'\n"
     ]
    },
    {
     "name": "stderr",
     "output_type": "stream",
     "text": [
      "INFO:prefect.TaskRunner:Task 'QE02:b1_gradient': Finished task run for task with final state: 'Success'\n"
     ]
    },
    {
     "name": "stdout",
     "output_type": "stream",
     "text": [
      "[2023-08-02 12:42:30-0700] INFO - prefect.TaskRunner | Task 'configure_lume_services': Starting task run...\n"
     ]
    },
    {
     "name": "stderr",
     "output_type": "stream",
     "text": [
      "INFO:prefect.TaskRunner:Task 'configure_lume_services': Starting task run...\n",
      "INFO:lume_services.config:Configuring LUME-services environment...\n",
      "INFO:lume_services.config:Environment configured.\n"
     ]
    },
    {
     "name": "stdout",
     "output_type": "stream",
     "text": [
      "[2023-08-02 12:42:30-0700] INFO - prefect.TaskRunner | Task 'configure_lume_services': Finished task run for task with final state: 'Success'\n"
     ]
    },
    {
     "name": "stderr",
     "output_type": "stream",
     "text": [
      "INFO:prefect.TaskRunner:Task 'configure_lume_services': Finished task run for task with final state: 'Success'\n"
     ]
    },
    {
     "name": "stdout",
     "output_type": "stream",
     "text": [
      "[2023-08-02 12:42:30-0700] INFO - prefect.TaskRunner | Task 'SOL1:solenoid_field_scale': Starting task run...\n"
     ]
    },
    {
     "name": "stderr",
     "output_type": "stream",
     "text": [
      "INFO:prefect.TaskRunner:Task 'SOL1:solenoid_field_scale': Starting task run...\n"
     ]
    },
    {
     "name": "stdout",
     "output_type": "stream",
     "text": [
      "[2023-08-02 12:42:30-0700] INFO - prefect.TaskRunner | Task 'SOL1:solenoid_field_scale': Finished task run for task with final state: 'Success'\n"
     ]
    },
    {
     "name": "stderr",
     "output_type": "stream",
     "text": [
      "INFO:prefect.TaskRunner:Task 'SOL1:solenoid_field_scale': Finished task run for task with final state: 'Success'\n"
     ]
    },
    {
     "name": "stdout",
     "output_type": "stream",
     "text": [
      "[2023-08-02 12:42:30-0700] INFO - prefect.TaskRunner | Task 'L0A_phase:dtheta0_deg': Starting task run...\n"
     ]
    },
    {
     "name": "stderr",
     "output_type": "stream",
     "text": [
      "INFO:prefect.TaskRunner:Task 'L0A_phase:dtheta0_deg': Starting task run...\n"
     ]
    },
    {
     "name": "stdout",
     "output_type": "stream",
     "text": [
      "[2023-08-02 12:42:30-0700] INFO - prefect.TaskRunner | Task 'L0A_phase:dtheta0_deg': Finished task run for task with final state: 'Success'\n"
     ]
    },
    {
     "name": "stderr",
     "output_type": "stream",
     "text": [
      "INFO:prefect.TaskRunner:Task 'L0A_phase:dtheta0_deg': Finished task run for task with final state: 'Success'\n"
     ]
    },
    {
     "name": "stdout",
     "output_type": "stream",
     "text": [
      "[2023-08-02 12:42:30-0700] INFO - prefect.TaskRunner | Task 'L0B_phase:dtheta0_deg': Starting task run...\n"
     ]
    },
    {
     "name": "stderr",
     "output_type": "stream",
     "text": [
      "INFO:prefect.TaskRunner:Task 'L0B_phase:dtheta0_deg': Starting task run...\n"
     ]
    },
    {
     "name": "stdout",
     "output_type": "stream",
     "text": [
      "[2023-08-02 12:42:30-0700] INFO - prefect.TaskRunner | Task 'L0B_phase:dtheta0_deg': Finished task run for task with final state: 'Success'\n"
     ]
    },
    {
     "name": "stderr",
     "output_type": "stream",
     "text": [
      "INFO:prefect.TaskRunner:Task 'L0B_phase:dtheta0_deg': Finished task run for task with final state: 'Success'\n"
     ]
    },
    {
     "name": "stdout",
     "output_type": "stream",
     "text": [
      "[2023-08-02 12:42:30-0700] INFO - prefect.TaskRunner | Task 'CQ01:b1_gradient': Starting task run...\n"
     ]
    },
    {
     "name": "stderr",
     "output_type": "stream",
     "text": [
      "INFO:prefect.TaskRunner:Task 'CQ01:b1_gradient': Starting task run...\n"
     ]
    },
    {
     "name": "stdout",
     "output_type": "stream",
     "text": [
      "[2023-08-02 12:42:30-0700] INFO - prefect.TaskRunner | Task 'CQ01:b1_gradient': Finished task run for task with final state: 'Success'\n"
     ]
    },
    {
     "name": "stderr",
     "output_type": "stream",
     "text": [
      "INFO:prefect.TaskRunner:Task 'CQ01:b1_gradient': Finished task run for task with final state: 'Success'\n"
     ]
    },
    {
     "name": "stdout",
     "output_type": "stream",
     "text": [
      "[2023-08-02 12:42:30-0700] INFO - prefect.TaskRunner | Task 'QA01:b1_gradient': Starting task run...\n"
     ]
    },
    {
     "name": "stderr",
     "output_type": "stream",
     "text": [
      "INFO:prefect.TaskRunner:Task 'QA01:b1_gradient': Starting task run...\n"
     ]
    },
    {
     "name": "stdout",
     "output_type": "stream",
     "text": [
      "[2023-08-02 12:42:30-0700] INFO - prefect.TaskRunner | Task 'QA01:b1_gradient': Finished task run for task with final state: 'Success'\n"
     ]
    },
    {
     "name": "stderr",
     "output_type": "stream",
     "text": [
      "INFO:prefect.TaskRunner:Task 'QA01:b1_gradient': Finished task run for task with final state: 'Success'\n"
     ]
    },
    {
     "name": "stdout",
     "output_type": "stream",
     "text": [
      "[2023-08-02 12:42:30-0700] INFO - prefect.TaskRunner | Task 'distgen:r_dist:sigma_xy:value': Starting task run...\n"
     ]
    },
    {
     "name": "stderr",
     "output_type": "stream",
     "text": [
      "INFO:prefect.TaskRunner:Task 'distgen:r_dist:sigma_xy:value': Starting task run...\n"
     ]
    },
    {
     "name": "stdout",
     "output_type": "stream",
     "text": [
      "[2023-08-02 12:42:30-0700] INFO - prefect.TaskRunner | Task 'distgen:r_dist:sigma_xy:value': Finished task run for task with final state: 'Success'\n"
     ]
    },
    {
     "name": "stderr",
     "output_type": "stream",
     "text": [
      "INFO:prefect.TaskRunner:Task 'distgen:r_dist:sigma_xy:value': Finished task run for task with final state: 'Success'\n"
     ]
    },
    {
     "name": "stdout",
     "output_type": "stream",
     "text": [
      "[2023-08-02 12:42:30-0700] INFO - prefect.TaskRunner | Task 'QE03:b1_gradient': Starting task run...\n"
     ]
    },
    {
     "name": "stderr",
     "output_type": "stream",
     "text": [
      "INFO:prefect.TaskRunner:Task 'QE03:b1_gradient': Starting task run...\n"
     ]
    },
    {
     "name": "stdout",
     "output_type": "stream",
     "text": [
      "[2023-08-02 12:42:30-0700] INFO - prefect.TaskRunner | Task 'QE03:b1_gradient': Finished task run for task with final state: 'Success'\n"
     ]
    },
    {
     "name": "stderr",
     "output_type": "stream",
     "text": [
      "INFO:prefect.TaskRunner:Task 'QE03:b1_gradient': Finished task run for task with final state: 'Success'\n"
     ]
    },
    {
     "name": "stdout",
     "output_type": "stream",
     "text": [
      "[2023-08-02 12:42:30-0700] INFO - prefect.TaskRunner | Task 'List': Starting task run...\n"
     ]
    },
    {
     "name": "stderr",
     "output_type": "stream",
     "text": [
      "INFO:prefect.TaskRunner:Task 'List': Starting task run...\n"
     ]
    },
    {
     "name": "stdout",
     "output_type": "stream",
     "text": [
      "[2023-08-02 12:42:30-0700] INFO - prefect.TaskRunner | Task 'List': Finished task run for task with final state: 'Success'\n"
     ]
    },
    {
     "name": "stderr",
     "output_type": "stream",
     "text": [
      "INFO:prefect.TaskRunner:Task 'List': Finished task run for task with final state: 'Success'\n"
     ]
    },
    {
     "name": "stdout",
     "output_type": "stream",
     "text": [
      "[2023-08-02 12:42:30-0700] INFO - prefect.TaskRunner | Task 'Dict': Starting task run...\n"
     ]
    },
    {
     "name": "stderr",
     "output_type": "stream",
     "text": [
      "INFO:prefect.TaskRunner:Task 'Dict': Starting task run...\n"
     ]
    },
    {
     "name": "stdout",
     "output_type": "stream",
     "text": [
      "[2023-08-02 12:42:30-0700] INFO - prefect.TaskRunner | Task 'Dict': Finished task run for task with final state: 'Success'\n"
     ]
    },
    {
     "name": "stderr",
     "output_type": "stream",
     "text": [
      "INFO:prefect.TaskRunner:Task 'Dict': Finished task run for task with final state: 'Success'\n"
     ]
    },
    {
     "name": "stdout",
     "output_type": "stream",
     "text": [
      "[2023-08-02 12:42:30-0700] INFO - prefect.TaskRunner | Task 'check_local_execution': Starting task run...\n"
     ]
    },
    {
     "name": "stderr",
     "output_type": "stream",
     "text": [
      "INFO:prefect.TaskRunner:Task 'check_local_execution': Starting task run...\n"
     ]
    },
    {
     "name": "stdout",
     "output_type": "stream",
     "text": [
      "[2023-08-02 12:42:30-0700] INFO - prefect.TaskRunner | Task 'check_local_execution': Finished task run for task with final state: 'Success'\n"
     ]
    },
    {
     "name": "stderr",
     "output_type": "stream",
     "text": [
      "INFO:prefect.TaskRunner:Task 'check_local_execution': Finished task run for task with final state: 'Success'\n"
     ]
    },
    {
     "name": "stdout",
     "output_type": "stream",
     "text": [
      "[2023-08-02 12:42:30-0700] INFO - prefect.TaskRunner | Task 'case(False)': Starting task run...\n"
     ]
    },
    {
     "name": "stderr",
     "output_type": "stream",
     "text": [
      "INFO:prefect.TaskRunner:Task 'case(False)': Starting task run...\n"
     ]
    },
    {
     "name": "stdout",
     "output_type": "stream",
     "text": [
      "[2023-08-02 12:42:30-0700] INFO - prefect.TaskRunner | Task 'case(False)': Finished task run for task with final state: 'Success'\n"
     ]
    },
    {
     "name": "stderr",
     "output_type": "stream",
     "text": [
      "INFO:prefect.TaskRunner:Task 'case(False)': Finished task run for task with final state: 'Success'\n"
     ]
    },
    {
     "name": "stdout",
     "output_type": "stream",
     "text": [
      "[2023-08-02 12:42:30-0700] INFO - prefect.TaskRunner | Task 'prepare_lume_model_variables': Starting task run...\n"
     ]
    },
    {
     "name": "stderr",
     "output_type": "stream",
     "text": [
      "INFO:prefect.TaskRunner:Task 'prepare_lume_model_variables': Starting task run...\n"
     ]
    },
    {
     "name": "stdout",
     "output_type": "stream",
     "text": [
      "[2023-08-02 12:42:30-0700] INFO - prefect.TaskRunner | Task 'prepare_lume_model_variables': Finished task run for task with final state: 'Success'\n"
     ]
    },
    {
     "name": "stderr",
     "output_type": "stream",
     "text": [
      "INFO:prefect.TaskRunner:Task 'prepare_lume_model_variables': Finished task run for task with final state: 'Success'\n"
     ]
    },
    {
     "name": "stdout",
     "output_type": "stream",
     "text": [
      "[2023-08-02 12:42:30-0700] INFO - prefect.TaskRunner | Task 'preprocessing_task': Starting task run...\n"
     ]
    },
    {
     "name": "stderr",
     "output_type": "stream",
     "text": [
      "INFO:prefect.TaskRunner:Task 'preprocessing_task': Starting task run...\n"
     ]
    },
    {
     "name": "stdout",
     "output_type": "stream",
     "text": [
      "[2023-08-02 12:42:30-0700] INFO - prefect.TaskRunner | Hey2\n"
     ]
    },
    {
     "name": "stderr",
     "output_type": "stream",
     "text": [
      "INFO:prefect.TaskRunner:Hey2\n"
     ]
    },
    {
     "name": "stdout",
     "output_type": "stream",
     "text": [
      "[2023-08-02 12:42:30-0700] INFO - prefect.TaskRunner | {'distgen:r_dist:sigma_xy:value': ScalarInputVariable(variable_type='scalar', units=None, parent_variable=None, value_range=[0.21021247820852546, 0.4999996083265339], name='distgen:r_dist:sigma_xy:value', value=0.13073731407689876, precision=None, default=0.423867825, is_constant=False), 'distgen:t_dist:length:value': ScalarInputVariable(variable_type='scalar', units=None, parent_variable=None, value_range=[3.000000758511308, 11.998569812014836], name='distgen:t_dist:length:value', value=9.632320417447634, precision=None, default=3.06083484, is_constant=False), 'distgen:total_charge:value': ScalarInputVariable(variable_type='scalar', units=None, parent_variable=None, value_range=[250.0, 250.0], name='distgen:total_charge:value', value=4.005441585e-05, precision=None, default=250.0, is_constant=False), 'SOL1:solenoid_field_scale': ScalarInputVariable(variable_type='scalar', units=None, parent_variable=None, value_range=[0.19409053333889578, 0.2563030896232562], name='SOL1:solenoid_field_scale', value=0.11827267808314273, precision=None, default=0.245806452, is_constant=False), 'CQ01:b1_gradient': ScalarInputVariable(variable_type='scalar', units=None, parent_variable=None, value_range=[-0.009999618141995313, 0.0099925212795954], name='CQ01:b1_gradient', value=-0.00018677689940900435, precision=None, default=0.000713917676, is_constant=False), 'SQ01:b1_gradient': ScalarInputVariable(variable_type='scalar', units=None, parent_variable=None, value_range=[-0.009999490058927914, 0.009999443099573097], name='SQ01:b1_gradient', value=0.0030829239990853817, precision=None, default=0.000327285211, is_constant=False), 'L0A_scale:voltage': ScalarInputVariable(variable_type='scalar', units=None, parent_variable=None, value_range=[58000000.0, 58000000.0], name='L0A_scale:voltage', value=58000000000000.0, precision=None, default=58000000.0, is_constant=False), 'L0A_phase:dtheta0_deg': ScalarInputVariable(variable_type='scalar', units=None, parent_variable=None, value_range=[-24.998714513984325, 9.991752397382681], name='L0A_phase:dtheta0_deg', value=2.7935416436475613, precision=None, default=-9.53597349, is_constant=False), 'L0B_scale:voltage': ScalarInputVariable(variable_type='scalar', units=None, parent_variable=None, value_range=[70000000.0, 70000000.0], name='L0B_scale:voltage', value=70000000000000.0, precision=None, default=70000000.0, is_constant=False), 'L0B_phase:dtheta0_deg': ScalarInputVariable(variable_type='scalar', units=None, parent_variable=None, value_range=[-24.99972566363747, 9.998904767155892], name='L0B_phase:dtheta0_deg', value=-9.868970006934532, precision=None, default=9.85566222, is_constant=False), 'QA01:b1_gradient': ScalarInputVariable(variable_type='scalar', units=None, parent_variable=None, value_range=[1.000039854940649, 3.998197816908352], name='QA01:b1_gradient', value=-1.9894543276913668, precision=None, default=1.85240001, is_constant=False), 'QA02:b1_gradient': ScalarInputVariable(variable_type='scalar', units=None, parent_variable=None, value_range=[-3.990444304119449, -1.0105116218007806], name='QA02:b1_gradient', value=2.236792824103467, precision=None, default=-1.85240001, is_constant=False), 'QE01:b1_gradient': ScalarInputVariable(variable_type='scalar', units=None, parent_variable=None, value_range=[1.0007061999094193, 6.9997773994714345], name='QE01:b1_gradient', value=-2.2288974581777263, precision=None, default=0.187200002, is_constant=False), 'QE02:b1_gradient': ScalarInputVariable(variable_type='scalar', units=None, parent_variable=None, value_range=[-6.999887318319171, 0.9983521010385275], name='QE02:b1_gradient', value=-0.6649341216931597, precision=None, default=0.1661, is_constant=False), 'QE03:b1_gradient': ScalarInputVariable(variable_type='scalar', units=None, parent_variable=None, value_range=[-6.998418428856965, 0.9993010487139868], name='QE03:b1_gradient', value=3.4710738890863073, precision=None, default=-2.6409, is_constant=False), 'QE04:b1_gradient': ScalarInputVariable(variable_type='scalar', units=None, parent_variable=None, value_range=[1.000026533968218, 6.998086093251312], name='QE04:b1_gradient', value=-2.1662014650527697, precision=None, default=2.97999999, is_constant=False)}\n"
     ]
    },
    {
     "name": "stderr",
     "output_type": "stream",
     "text": [
      "INFO:prefect.TaskRunner:{'distgen:r_dist:sigma_xy:value': ScalarInputVariable(variable_type='scalar', units=None, parent_variable=None, value_range=[0.21021247820852546, 0.4999996083265339], name='distgen:r_dist:sigma_xy:value', value=0.13073731407689876, precision=None, default=0.423867825, is_constant=False), 'distgen:t_dist:length:value': ScalarInputVariable(variable_type='scalar', units=None, parent_variable=None, value_range=[3.000000758511308, 11.998569812014836], name='distgen:t_dist:length:value', value=9.632320417447634, precision=None, default=3.06083484, is_constant=False), 'distgen:total_charge:value': ScalarInputVariable(variable_type='scalar', units=None, parent_variable=None, value_range=[250.0, 250.0], name='distgen:total_charge:value', value=4.005441585e-05, precision=None, default=250.0, is_constant=False), 'SOL1:solenoid_field_scale': ScalarInputVariable(variable_type='scalar', units=None, parent_variable=None, value_range=[0.19409053333889578, 0.2563030896232562], name='SOL1:solenoid_field_scale', value=0.11827267808314273, precision=None, default=0.245806452, is_constant=False), 'CQ01:b1_gradient': ScalarInputVariable(variable_type='scalar', units=None, parent_variable=None, value_range=[-0.009999618141995313, 0.0099925212795954], name='CQ01:b1_gradient', value=-0.00018677689940900435, precision=None, default=0.000713917676, is_constant=False), 'SQ01:b1_gradient': ScalarInputVariable(variable_type='scalar', units=None, parent_variable=None, value_range=[-0.009999490058927914, 0.009999443099573097], name='SQ01:b1_gradient', value=0.0030829239990853817, precision=None, default=0.000327285211, is_constant=False), 'L0A_scale:voltage': ScalarInputVariable(variable_type='scalar', units=None, parent_variable=None, value_range=[58000000.0, 58000000.0], name='L0A_scale:voltage', value=58000000000000.0, precision=None, default=58000000.0, is_constant=False), 'L0A_phase:dtheta0_deg': ScalarInputVariable(variable_type='scalar', units=None, parent_variable=None, value_range=[-24.998714513984325, 9.991752397382681], name='L0A_phase:dtheta0_deg', value=2.7935416436475613, precision=None, default=-9.53597349, is_constant=False), 'L0B_scale:voltage': ScalarInputVariable(variable_type='scalar', units=None, parent_variable=None, value_range=[70000000.0, 70000000.0], name='L0B_scale:voltage', value=70000000000000.0, precision=None, default=70000000.0, is_constant=False), 'L0B_phase:dtheta0_deg': ScalarInputVariable(variable_type='scalar', units=None, parent_variable=None, value_range=[-24.99972566363747, 9.998904767155892], name='L0B_phase:dtheta0_deg', value=-9.868970006934532, precision=None, default=9.85566222, is_constant=False), 'QA01:b1_gradient': ScalarInputVariable(variable_type='scalar', units=None, parent_variable=None, value_range=[1.000039854940649, 3.998197816908352], name='QA01:b1_gradient', value=-1.9894543276913668, precision=None, default=1.85240001, is_constant=False), 'QA02:b1_gradient': ScalarInputVariable(variable_type='scalar', units=None, parent_variable=None, value_range=[-3.990444304119449, -1.0105116218007806], name='QA02:b1_gradient', value=2.236792824103467, precision=None, default=-1.85240001, is_constant=False), 'QE01:b1_gradient': ScalarInputVariable(variable_type='scalar', units=None, parent_variable=None, value_range=[1.0007061999094193, 6.9997773994714345], name='QE01:b1_gradient', value=-2.2288974581777263, precision=None, default=0.187200002, is_constant=False), 'QE02:b1_gradient': ScalarInputVariable(variable_type='scalar', units=None, parent_variable=None, value_range=[-6.999887318319171, 0.9983521010385275], name='QE02:b1_gradient', value=-0.6649341216931597, precision=None, default=0.1661, is_constant=False), 'QE03:b1_gradient': ScalarInputVariable(variable_type='scalar', units=None, parent_variable=None, value_range=[-6.998418428856965, 0.9993010487139868], name='QE03:b1_gradient', value=3.4710738890863073, precision=None, default=-2.6409, is_constant=False), 'QE04:b1_gradient': ScalarInputVariable(variable_type='scalar', units=None, parent_variable=None, value_range=[1.000026533968218, 6.998086093251312], name='QE04:b1_gradient', value=-2.1662014650527697, precision=None, default=2.97999999, is_constant=False)}\n"
     ]
    },
    {
     "name": "stdout",
     "output_type": "stream",
     "text": [
      "[2023-08-02 12:42:30-0700] INFO - prefect.TaskRunner | Task 'preprocessing_task': Finished task run for task with final state: 'Success'\n"
     ]
    },
    {
     "name": "stderr",
     "output_type": "stream",
     "text": [
      "INFO:prefect.TaskRunner:Task 'preprocessing_task': Finished task run for task with final state: 'Success'\n"
     ]
    },
    {
     "name": "stdout",
     "output_type": "stream",
     "text": [
      "[2023-08-02 12:42:30-0700] INFO - prefect.TaskRunner | Task 'evaluate': Starting task run...\n"
     ]
    },
    {
     "name": "stderr",
     "output_type": "stream",
     "text": [
      "INFO:prefect.TaskRunner:Task 'evaluate': Starting task run...\n"
     ]
    },
    {
     "name": "stdout",
     "output_type": "stream",
     "text": [
      "[2023-08-02 12:42:30-0700] INFO - prefect.TaskRunner | Hey 3\n"
     ]
    },
    {
     "name": "stderr",
     "output_type": "stream",
     "text": [
      "INFO:prefect.TaskRunner:Hey 3\n"
     ]
    },
    {
     "name": "stdout",
     "output_type": "stream",
     "text": [
      "[2023-08-02 12:42:30-0700] INFO - prefect.TaskRunner | ['Run.ipynb', '.ipynb_checkpoints', 'RunPyTorchFlow.ipynb', 'model', 'info', 'demo.env']\n"
     ]
    },
    {
     "name": "stderr",
     "output_type": "stream",
     "text": [
      "INFO:prefect.TaskRunner:['Run.ipynb', '.ipynb_checkpoints', 'RunPyTorchFlow.ipynb', 'model', 'info', 'demo.env']\n"
     ]
    },
    {
     "name": "stdout",
     "output_type": "stream",
     "text": [
      "[2023-08-02 12:42:30-0700] INFO - prefect.TaskRunner | Hey 4\n"
     ]
    },
    {
     "name": "stderr",
     "output_type": "stream",
     "text": [
      "INFO:prefect.TaskRunner:Hey 4\n"
     ]
    },
    {
     "name": "stdout",
     "output_type": "stream",
     "text": [
      "[2023-08-02 12:42:30-0700] INFO - prefect.TaskRunner | tensor([1.3961e+10, 8.8736e+10, 6.3340e+09, 3.1213e+07, 9.2256e+07],\n",
      "       dtype=torch.float64)\n"
     ]
    },
    {
     "name": "stderr",
     "output_type": "stream",
     "text": [
      "INFO:prefect.TaskRunner:tensor([1.3961e+10, 8.8736e+10, 6.3340e+09, 3.1213e+07, 9.2256e+07],\n",
      "       dtype=torch.float64)\n"
     ]
    },
    {
     "name": "stdout",
     "output_type": "stream",
     "text": [
      "[2023-08-02 12:42:30-0700] INFO - prefect.TaskRunner | Task 'evaluate': Finished task run for task with final state: 'Success'\n"
     ]
    },
    {
     "name": "stderr",
     "output_type": "stream",
     "text": [
      "INFO:prefect.TaskRunner:Task 'evaluate': Finished task run for task with final state: 'Success'\n"
     ]
    },
    {
     "name": "stdout",
     "output_type": "stream",
     "text": [
      "[2023-08-02 12:42:30-0700] INFO - prefect.TaskRunner | Task 'format_result': Starting task run...\n"
     ]
    },
    {
     "name": "stderr",
     "output_type": "stream",
     "text": [
      "INFO:prefect.TaskRunner:Task 'format_result': Starting task run...\n"
     ]
    },
    {
     "name": "stdout",
     "output_type": "stream",
     "text": [
      "[2023-08-02 12:42:30-0700] INFO - prefect.TaskRunner | Hey 5\n"
     ]
    },
    {
     "name": "stderr",
     "output_type": "stream",
     "text": [
      "INFO:prefect.TaskRunner:Hey 5\n"
     ]
    },
    {
     "name": "stdout",
     "output_type": "stream",
     "text": [
      "[2023-08-02 12:42:30-0700] INFO - prefect.TaskRunner | Final Result\n"
     ]
    },
    {
     "name": "stderr",
     "output_type": "stream",
     "text": [
      "INFO:prefect.TaskRunner:Final Result\n",
      "WARNING:lume_services.results.generic:No project_name passed to result\n"
     ]
    },
    {
     "name": "stdout",
     "output_type": "stream",
     "text": [
      "[2023-08-02 12:42:30-0700] INFO - prefect.TaskRunner | project_name='local' id=None flow_id='lume-lcls-cu-inj-nn' inputs={'distgen:r_dist:sigma_xy:value': 0.13073731407689876, 'distgen:t_dist:length:value': 9.632320417447634, 'distgen:total_charge:value': 4.005441585e-05, 'SOL1:solenoid_field_scale': 0.11827267808314273, 'CQ01:b1_gradient': -0.00018677689940900435, 'SQ01:b1_gradient': 0.0030829239990853817, 'L0A_scale:voltage': 58000000000000.0, 'L0A_phase:dtheta0_deg': 2.7935416436475613, 'L0B_scale:voltage': 70000000000000.0, 'L0B_phase:dtheta0_deg': -9.868970006934532, 'QA01:b1_gradient': -1.9894543276913668, 'QA02:b1_gradient': 2.236792824103467, 'QE01:b1_gradient': -2.2288974581777263, 'QE02:b1_gradient': -0.6649341216931597, 'QE03:b1_gradient': 3.4710738890863073, 'QE04:b1_gradient': -2.1662014650527697} outputs={'sigma_x': 13960970485.12798, 'sigma_y': 88736420514.61249, 'sigma_z': 6334030767.782163, 'norm_emit_x': 31212689.843273308, 'norm_emit_y': 92256092.63675001} date_modified=datetime.datetime(2023, 8, 2, 18, 25, 38, 115000) unique_on=['inputs', 'outputs', 'flow_id'] unique_hash='33c712d88fb187622f96a1c59e28c114' result_type_string='lume_services.results.generic.Result'\n"
     ]
    },
    {
     "name": "stderr",
     "output_type": "stream",
     "text": [
      "INFO:prefect.TaskRunner:project_name='local' id=None flow_id='lume-lcls-cu-inj-nn' inputs={'distgen:r_dist:sigma_xy:value': 0.13073731407689876, 'distgen:t_dist:length:value': 9.632320417447634, 'distgen:total_charge:value': 4.005441585e-05, 'SOL1:solenoid_field_scale': 0.11827267808314273, 'CQ01:b1_gradient': -0.00018677689940900435, 'SQ01:b1_gradient': 0.0030829239990853817, 'L0A_scale:voltage': 58000000000000.0, 'L0A_phase:dtheta0_deg': 2.7935416436475613, 'L0B_scale:voltage': 70000000000000.0, 'L0B_phase:dtheta0_deg': -9.868970006934532, 'QA01:b1_gradient': -1.9894543276913668, 'QA02:b1_gradient': 2.236792824103467, 'QE01:b1_gradient': -2.2288974581777263, 'QE02:b1_gradient': -0.6649341216931597, 'QE03:b1_gradient': 3.4710738890863073, 'QE04:b1_gradient': -2.1662014650527697} outputs={'sigma_x': 13960970485.12798, 'sigma_y': 88736420514.61249, 'sigma_z': 6334030767.782163, 'norm_emit_x': 31212689.843273308, 'norm_emit_y': 92256092.63675001} date_modified=datetime.datetime(2023, 8, 2, 18, 25, 38, 115000) unique_on=['inputs', 'outputs', 'flow_id'] unique_hash='33c712d88fb187622f96a1c59e28c114' result_type_string='lume_services.results.generic.Result'\n",
      "WARNING:lume_services.results.generic:No project_name passed to result\n"
     ]
    },
    {
     "name": "stdout",
     "output_type": "stream",
     "text": [
      "[2023-08-02 12:42:30-0700] INFO - prefect.TaskRunner | Task 'format_result': Finished task run for task with final state: 'Success'\n"
     ]
    },
    {
     "name": "stderr",
     "output_type": "stream",
     "text": [
      "INFO:prefect.TaskRunner:Task 'format_result': Finished task run for task with final state: 'Success'\n"
     ]
    },
    {
     "name": "stdout",
     "output_type": "stream",
     "text": [
      "[2023-08-02 12:42:30-0700] INFO - prefect.TaskRunner | Task 'save_db_result': Starting task run...\n"
     ]
    },
    {
     "name": "stderr",
     "output_type": "stream",
     "text": [
      "INFO:prefect.TaskRunner:Task 'save_db_result': Starting task run...\n"
     ]
    },
    {
     "name": "stdout",
     "output_type": "stream",
     "text": [
      "[2023-08-02 12:42:30-0700] INFO - prefect.TaskRunner | Task 'save_db_result': Finished task run for task with final state: 'Success'\n"
     ]
    },
    {
     "name": "stderr",
     "output_type": "stream",
     "text": [
      "INFO:prefect.TaskRunner:Task 'save_db_result': Finished task run for task with final state: 'Success'\n"
     ]
    },
    {
     "name": "stdout",
     "output_type": "stream",
     "text": [
      "[2023-08-02 12:42:30-0700] INFO - prefect.FlowRunner | Flow run SUCCESS: all reference tasks succeeded\n"
     ]
    },
    {
     "name": "stderr",
     "output_type": "stream",
     "text": [
      "INFO:prefect.FlowRunner:Flow run SUCCESS: all reference tasks succeeded\n"
     ]
    }
   ],
   "source": [
    "flow_run = model.deployment.flow.prefect_flow.run(**\n",
    "                                                  {'distgen:r_dist:sigma_xy:value': 0.3922119814518944,\n",
    "         'distgen:t_dist:length:value': 5.837769949968263,\n",
    "         'distgen:total_charge:value': 250.0,\n",
    "         'SOL1:solenoid_field_scale': 0.22998059682676109,\n",
    "         'CQ01:b1_gradient': 0.00039223148891580177,\n",
    "         'SQ01:b1_gradient': -0.006474140400668958,\n",
    "         'L0A_scale:voltage': 58000000.0,\n",
    "         'L0A_phase:dtheta0_deg': 2.7935416436475613,\n",
    "         'L0B_scale:voltage': 70000000.0,\n",
    "         'L0B_phase:dtheta0_deg': -9.868970006934532,\n",
    "         'QA01:b1_gradient': 2.148610673734787,\n",
    "         'QA02:b1_gradient': -2.415736249838486,\n",
    "         'QE01:b1_gradient': 2.4072092546393677,\n",
    "         'QE02:b1_gradient': 0.7181288513711621,\n",
    "         'QE03:b1_gradient': -3.748759799913311,\n",
    "         'QE04:b1_gradient': 2.3394975820698316\n",
    "                 }\n",
    ")\n"
   ]
  },
  {
   "cell_type": "markdown",
   "id": "0fc08d87",
   "metadata": {},
   "source": [
    "## Run the workflow inside the service cluster\n",
    "We can use the model interface to directly deploy workflows. When sourcing our environment (`docs/examples/demo.env`), we defined a mount point for the file system using the alias `/lume-services/data`. Let's kick off this workflow and save the file output to that directory. \n",
    "After running the next cell, you'll be able to see the running container in your docker desktop and examine the flow using the Prefect UI at http://localhost:8080/default?flows."
   ]
  },
  {
   "cell_type": "code",
   "execution_count": 62,
   "id": "90a5769f",
   "metadata": {},
   "outputs": [],
   "source": [
    "model.run(\n",
    "    parameters = {'distgen:r_dist:sigma_xy:value': 0.3922119814518944,\n",
    "         'distgen:t_dist:length:value': 5.837769949968263,\n",
    "         'distgen:total_charge:value': 250.0,\n",
    "         'SOL1:solenoid_field_scale': 0.22998059682676109,\n",
    "         'CQ01:b1_gradient': 0.00039223148891580177,\n",
    "         'SQ01:b1_gradient': -0.006474140400668958,\n",
    "         'L0A_scale:voltage': 58000000.0,\n",
    "         'L0A_phase:dtheta0_deg': 2.7935416436475613,\n",
    "         'L0B_scale:voltage': 70000000.0,\n",
    "         'L0B_phase:dtheta0_deg': -9.868970006934532,\n",
    "         'QA01:b1_gradient': 2.148610673734787,\n",
    "         'QA02:b1_gradient': -2.415736249838486,\n",
    "         'QE01:b1_gradient': 2.4072092546393677,\n",
    "         'QE02:b1_gradient': 0.7181288513711621,\n",
    "         'QE03:b1_gradient': -3.748759799913311,\n",
    "         'QE04:b1_gradient': 2.3394975820698316\n",
    "                 }\n",
    ")"
   ]
  },
  {
   "cell_type": "code",
   "execution_count": 63,
   "id": "49ca124d",
   "metadata": {},
   "outputs": [
    {
     "data": {
      "text/plain": [
       "Flow(name='lume-lcls-cu-inj-nn', flow_id='91d2bda4-7ae3-4175-ae22-d8d99be69d4c', project_name='gpu-new-box', prefect_flow=<Flow: name=\"lume-lcls-cu-inj-nn\">, parameters=None, mapped_parameters=None, task_slugs=None, labels=['lume-services'], image='scr.svc.stanford.edu/aman96/lume-lcls-cu-inj-nn:v0.0.35')"
      ]
     },
     "execution_count": 63,
     "metadata": {},
     "output_type": "execute_result"
    }
   ],
   "source": [
    "model.deployment.flow"
   ]
  },
  {
   "cell_type": "markdown",
   "id": "409851f9",
   "metadata": {},
   "source": [
    "# Get results:"
   ]
  },
  {
   "cell_type": "code",
   "execution_count": 12,
   "id": "b8ffa8be",
   "metadata": {},
   "outputs": [
    {
     "name": "stderr",
     "output_type": "stream",
     "text": [
      "WARNING:lume_services.results.generic:No project_name passed to result\n"
     ]
    },
    {
     "data": {
      "text/plain": [
       "[Result(project_name='local', id='64caa061413008c5934f5385', flow_id='91d2bda4-7ae3-4175-ae22-d8d99be69d4c', inputs={'distgen:r_dist:sigma_xy:value': 0.1376666529, 'distgen:t_dist:length:value': 12.374624528658504, 'distgen:total_charge:value': 4.005441585e-05, 'SOL1:solenoid_field_scale': 0.0874263114, 'CQ01:b1_gradient': 0.0035238095224, 'SQ01:b1_gradient': 0.0035238095224, 'L0A_scale:voltage': 70000000000000.0, 'L0A_phase:dtheta0_deg': -8.8997, 'L0B_scale:voltage': 70000000000000.0, 'L0B_phase:dtheta0_deg': 9.85566222, 'QA01:b1_gradient': -1.7151851945816592, 'QA02:b1_gradient': 1.7151851945816592, 'QE01:b1_gradient': -0.17333333519905186, 'QE02:b1_gradient': -0.1537962963086, 'QE03:b1_gradient': 2.4452777779734, 'QE04:b1_gradient': -2.7592592502207407}, outputs={'sigma_x': 15781042984.541616, 'sigma_y': 98044304869.09476, 'sigma_z': 6923430521.038898, 'norm_emit_x': 33789537.38230388, 'norm_emit_y': 101996504.75681177}, date_modified=datetime.datetime(2023, 8, 2, 18, 28, 44, 277000), unique_on=['inputs', 'outputs', 'flow_id'], unique_hash='633ed219eee9a608450384c49ec74afd', result_type_string='lume_services.results.generic.Result')]"
      ]
     },
     "execution_count": 12,
     "metadata": {},
     "output_type": "execute_result"
    }
   ],
   "source": [
    "results = model.get_results()\n",
    "\n",
    "results"
   ]
  },
  {
   "cell_type": "code",
   "execution_count": 16,
   "id": "8b388faa",
   "metadata": {},
   "outputs": [
    {
     "name": "stderr",
     "output_type": "stream",
     "text": [
      "WARNING:lume_services.results.generic:No project_name passed to result\n",
      "WARNING:lume_services.results.generic:No project_name passed to result\n"
     ]
    },
    {
     "data": {
      "text/html": [
       "<div>\n",
       "<style scoped>\n",
       "    .dataframe tbody tr th:only-of-type {\n",
       "        vertical-align: middle;\n",
       "    }\n",
       "\n",
       "    .dataframe tbody tr th {\n",
       "        vertical-align: top;\n",
       "    }\n",
       "\n",
       "    .dataframe thead th {\n",
       "        text-align: right;\n",
       "    }\n",
       "</style>\n",
       "<table border=\"1\" class=\"dataframe\">\n",
       "  <thead>\n",
       "    <tr style=\"text-align: right;\">\n",
       "      <th></th>\n",
       "      <th>project_name</th>\n",
       "      <th>flow_id</th>\n",
       "      <th>distgen:r_dist:sigma_xy:value</th>\n",
       "      <th>distgen:t_dist:length:value</th>\n",
       "      <th>distgen:total_charge:value</th>\n",
       "      <th>SOL1:solenoid_field_scale</th>\n",
       "      <th>CQ01:b1_gradient</th>\n",
       "      <th>SQ01:b1_gradient</th>\n",
       "      <th>L0A_scale:voltage</th>\n",
       "      <th>L0A_phase:dtheta0_deg</th>\n",
       "      <th>...</th>\n",
       "      <th>QE03:b1_gradient</th>\n",
       "      <th>QE04:b1_gradient</th>\n",
       "      <th>sigma_x</th>\n",
       "      <th>sigma_y</th>\n",
       "      <th>sigma_z</th>\n",
       "      <th>norm_emit_x</th>\n",
       "      <th>norm_emit_y</th>\n",
       "      <th>date_modified</th>\n",
       "      <th>unique_hash</th>\n",
       "      <th>result_type_string</th>\n",
       "    </tr>\n",
       "  </thead>\n",
       "  <tbody>\n",
       "    <tr>\n",
       "      <th>0</th>\n",
       "      <td>local</td>\n",
       "      <td>91d2bda4-7ae3-4175-ae22-d8d99be69d4c</td>\n",
       "      <td>0.137667</td>\n",
       "      <td>12.374625</td>\n",
       "      <td>0.00004</td>\n",
       "      <td>0.087426</td>\n",
       "      <td>0.003524</td>\n",
       "      <td>0.003524</td>\n",
       "      <td>7.000000e+13</td>\n",
       "      <td>-8.8997</td>\n",
       "      <td>...</td>\n",
       "      <td>2.445278</td>\n",
       "      <td>-2.759259</td>\n",
       "      <td>1.578104e+10</td>\n",
       "      <td>9.804430e+10</td>\n",
       "      <td>6.923431e+09</td>\n",
       "      <td>3.378954e+07</td>\n",
       "      <td>1.019965e+08</td>\n",
       "      <td>2023-08-02 18:28:44.277</td>\n",
       "      <td>633ed219eee9a608450384c49ec74afd</td>\n",
       "      <td>lume_services.results.generic.Result</td>\n",
       "    </tr>\n",
       "    <tr>\n",
       "      <th>1</th>\n",
       "      <td>local</td>\n",
       "      <td>91d2bda4-7ae3-4175-ae22-d8d99be69d4c</td>\n",
       "      <td>0.137667</td>\n",
       "      <td>12.374625</td>\n",
       "      <td>0.00004</td>\n",
       "      <td>0.087426</td>\n",
       "      <td>0.003524</td>\n",
       "      <td>0.003524</td>\n",
       "      <td>7.000000e+13</td>\n",
       "      <td>-8.8997</td>\n",
       "      <td>...</td>\n",
       "      <td>-0.000000</td>\n",
       "      <td>-0.000000</td>\n",
       "      <td>9.668138e+09</td>\n",
       "      <td>5.486262e+10</td>\n",
       "      <td>3.585886e+09</td>\n",
       "      <td>1.606390e+07</td>\n",
       "      <td>5.812364e+07</td>\n",
       "      <td>2023-08-02 18:30:13.864</td>\n",
       "      <td>124c16a27d9756e5232608ee3bc2c611</td>\n",
       "      <td>lume_services.results.generic.Result</td>\n",
       "    </tr>\n",
       "  </tbody>\n",
       "</table>\n",
       "<p>2 rows × 26 columns</p>\n",
       "</div>"
      ],
      "text/plain": [
       "  project_name                               flow_id  \\\n",
       "0        local  91d2bda4-7ae3-4175-ae22-d8d99be69d4c   \n",
       "1        local  91d2bda4-7ae3-4175-ae22-d8d99be69d4c   \n",
       "\n",
       "   distgen:r_dist:sigma_xy:value  distgen:t_dist:length:value  \\\n",
       "0                       0.137667                    12.374625   \n",
       "1                       0.137667                    12.374625   \n",
       "\n",
       "   distgen:total_charge:value  SOL1:solenoid_field_scale  CQ01:b1_gradient  \\\n",
       "0                     0.00004                   0.087426          0.003524   \n",
       "1                     0.00004                   0.087426          0.003524   \n",
       "\n",
       "   SQ01:b1_gradient  L0A_scale:voltage  L0A_phase:dtheta0_deg  ...  \\\n",
       "0          0.003524       7.000000e+13                -8.8997  ...   \n",
       "1          0.003524       7.000000e+13                -8.8997  ...   \n",
       "\n",
       "   QE03:b1_gradient  QE04:b1_gradient       sigma_x       sigma_y  \\\n",
       "0          2.445278         -2.759259  1.578104e+10  9.804430e+10   \n",
       "1         -0.000000         -0.000000  9.668138e+09  5.486262e+10   \n",
       "\n",
       "        sigma_z   norm_emit_x   norm_emit_y           date_modified  \\\n",
       "0  6.923431e+09  3.378954e+07  1.019965e+08 2023-08-02 18:28:44.277   \n",
       "1  3.585886e+09  1.606390e+07  5.812364e+07 2023-08-02 18:30:13.864   \n",
       "\n",
       "                        unique_hash                    result_type_string  \n",
       "0  633ed219eee9a608450384c49ec74afd  lume_services.results.generic.Result  \n",
       "1  124c16a27d9756e5232608ee3bc2c611  lume_services.results.generic.Result  \n",
       "\n",
       "[2 rows x 26 columns]"
      ]
     },
     "execution_count": 16,
     "metadata": {},
     "output_type": "execute_result"
    }
   ],
   "source": [
    "results_df = model.get_results_df()\n",
    "results_df"
   ]
  },
  {
   "cell_type": "code",
   "execution_count": 39,
   "id": "f5bfad50-9b0a-4775-9eba-5c168d270855",
   "metadata": {},
   "outputs": [
    {
     "name": "stdout",
     "output_type": "stream",
     "text": [
      "0\n",
      "1\n",
      "2\n",
      "3\n",
      "4\n",
      "5\n",
      "6\n",
      "7\n",
      "8\n",
      "9\n",
      "10\n",
      "11\n",
      "12\n",
      "13\n",
      "14\n",
      "15\n",
      "16\n",
      "17\n",
      "18\n",
      "19\n",
      "20\n",
      "21\n",
      "22\n",
      "23\n",
      "24\n",
      "25\n",
      "26\n",
      "27\n",
      "28\n",
      "29\n",
      "30\n",
      "31\n",
      "32\n",
      "33\n",
      "34\n",
      "35\n",
      "36\n",
      "37\n",
      "38\n",
      "39\n",
      "40\n",
      "41\n",
      "42\n",
      "43\n",
      "44\n",
      "45\n",
      "46\n",
      "47\n",
      "48\n",
      "49\n",
      "50\n",
      "51\n",
      "52\n",
      "53\n",
      "54\n",
      "55\n",
      "56\n",
      "57\n",
      "58\n",
      "59\n",
      "60\n",
      "61\n",
      "62\n",
      "63\n",
      "64\n",
      "65\n",
      "66\n",
      "67\n",
      "68\n",
      "69\n",
      "70\n",
      "71\n",
      "72\n",
      "73\n",
      "74\n",
      "75\n",
      "76\n",
      "77\n",
      "78\n",
      "79\n",
      "80\n",
      "81\n",
      "82\n",
      "83\n",
      "84\n",
      "85\n",
      "86\n",
      "87\n",
      "88\n",
      "89\n",
      "90\n",
      "91\n",
      "92\n",
      "93\n",
      "94\n",
      "95\n",
      "96\n",
      "97\n",
      "98\n",
      "99\n",
      "100\n",
      "101\n",
      "102\n",
      "103\n",
      "104\n",
      "105\n",
      "106\n",
      "107\n",
      "108\n",
      "109\n",
      "110\n",
      "111\n",
      "112\n",
      "113\n",
      "114\n",
      "115\n",
      "116\n",
      "117\n",
      "118\n",
      "119\n",
      "120\n",
      "121\n",
      "122\n",
      "123\n",
      "124\n",
      "125\n",
      "126\n",
      "127\n",
      "128\n",
      "129\n",
      "130\n",
      "131\n",
      "132\n",
      "133\n",
      "134\n",
      "135\n",
      "136\n",
      "137\n",
      "138\n",
      "139\n",
      "140\n",
      "141\n",
      "142\n",
      "143\n",
      "144\n",
      "145\n",
      "146\n",
      "147\n",
      "148\n",
      "149\n",
      "150\n",
      "151\n",
      "152\n",
      "153\n",
      "154\n",
      "155\n",
      "156\n",
      "157\n",
      "158\n",
      "159\n",
      "160\n",
      "161\n",
      "162\n",
      "163\n",
      "164\n",
      "165\n",
      "166\n",
      "167\n",
      "168\n",
      "169\n",
      "170\n",
      "171\n",
      "172\n",
      "173\n",
      "174\n",
      "175\n",
      "176\n",
      "177\n",
      "178\n",
      "179\n",
      "180\n",
      "181\n",
      "182\n",
      "183\n",
      "184\n",
      "185\n",
      "186\n",
      "187\n",
      "188\n",
      "189\n",
      "190\n",
      "191\n",
      "192\n",
      "193\n",
      "194\n",
      "195\n",
      "196\n",
      "197\n",
      "198\n",
      "199\n",
      "200\n",
      "201\n",
      "202\n",
      "203\n",
      "204\n",
      "205\n",
      "206\n",
      "207\n",
      "208\n",
      "209\n",
      "210\n",
      "211\n",
      "212\n",
      "213\n",
      "214\n",
      "215\n",
      "216\n",
      "217\n",
      "218\n",
      "219\n",
      "220\n",
      "221\n",
      "222\n",
      "223\n",
      "224\n",
      "225\n",
      "226\n",
      "227\n",
      "228\n",
      "229\n",
      "230\n",
      "231\n",
      "232\n",
      "233\n",
      "234\n",
      "235\n",
      "236\n",
      "237\n",
      "238\n",
      "239\n",
      "240\n",
      "241\n",
      "242\n",
      "243\n",
      "244\n",
      "245\n",
      "246\n",
      "247\n",
      "248\n",
      "249\n",
      "250\n",
      "251\n",
      "252\n",
      "253\n",
      "254\n",
      "255\n",
      "256\n",
      "257\n",
      "258\n",
      "259\n",
      "260\n",
      "261\n",
      "262\n",
      "263\n",
      "264\n",
      "265\n",
      "266\n",
      "267\n",
      "268\n",
      "269\n",
      "270\n",
      "271\n",
      "272\n",
      "273\n",
      "274\n",
      "275\n",
      "276\n",
      "277\n",
      "278\n",
      "279\n",
      "280\n",
      "281\n",
      "282\n"
     ]
    }
   ],
   "source": [
    "#Iterate Through Input -\n",
    "import torch\n",
    "from lume_model.utils import variables_from_yaml\n",
    "\n",
    "input_variables, output_variables = variables_from_yaml(open(\"model/variables.yml\"))\n",
    "\n",
    "inputs_small = torch.load(\"info/inputs_small.pt\")\n",
    "outputs_small = torch.load(\"info/outputs_small.pt\")\n",
    "\n",
    "inputs_small = inputs_small.tolist()\n",
    "\n",
    "for j, input in enumerate(inputs_small):\n",
    "    parameter_dict = {}\n",
    "    for i, key in enumerate(list(input_variables.keys())):\n",
    "        parameter_dict[key] = input[i]\n",
    "    model.run(\n",
    "        parameters = parameter_dict\n",
    "    ) \n",
    "    print(j)\n"
   ]
  },
  {
   "cell_type": "code",
   "execution_count": 61,
   "id": "4563f6ac-7846-4fe4-abca-48ff46e77cec",
   "metadata": {},
   "outputs": [
    {
     "name": "stderr",
     "output_type": "stream",
     "text": [
      "WARNING:lume_services.results.generic:No project_name passed to result\n",
      "WARNING:lume_services.results.generic:No project_name passed to result\n",
      "WARNING:lume_services.results.generic:No project_name passed to result\n",
      "WARNING:lume_services.results.generic:No project_name passed to result\n",
      "WARNING:lume_services.results.generic:No project_name passed to result\n",
      "WARNING:lume_services.results.generic:No project_name passed to result\n",
      "WARNING:lume_services.results.generic:No project_name passed to result\n",
      "WARNING:lume_services.results.generic:No project_name passed to result\n",
      "WARNING:lume_services.results.generic:No project_name passed to result\n",
      "WARNING:lume_services.results.generic:No project_name passed to result\n",
      "WARNING:lume_services.results.generic:No project_name passed to result\n",
      "WARNING:lume_services.results.generic:No project_name passed to result\n",
      "WARNING:lume_services.results.generic:No project_name passed to result\n",
      "WARNING:lume_services.results.generic:No project_name passed to result\n",
      "WARNING:lume_services.results.generic:No project_name passed to result\n",
      "WARNING:lume_services.results.generic:No project_name passed to result\n",
      "WARNING:lume_services.results.generic:No project_name passed to result\n",
      "WARNING:lume_services.results.generic:No project_name passed to result\n",
      "WARNING:lume_services.results.generic:No project_name passed to result\n",
      "WARNING:lume_services.results.generic:No project_name passed to result\n",
      "WARNING:lume_services.results.generic:No project_name passed to result\n",
      "WARNING:lume_services.results.generic:No project_name passed to result\n",
      "WARNING:lume_services.results.generic:No project_name passed to result\n",
      "WARNING:lume_services.results.generic:No project_name passed to result\n",
      "WARNING:lume_services.results.generic:No project_name passed to result\n",
      "WARNING:lume_services.results.generic:No project_name passed to result\n",
      "WARNING:lume_services.results.generic:No project_name passed to result\n",
      "WARNING:lume_services.results.generic:No project_name passed to result\n",
      "WARNING:lume_services.results.generic:No project_name passed to result\n",
      "WARNING:lume_services.results.generic:No project_name passed to result\n",
      "WARNING:lume_services.results.generic:No project_name passed to result\n",
      "WARNING:lume_services.results.generic:No project_name passed to result\n",
      "WARNING:lume_services.results.generic:No project_name passed to result\n",
      "WARNING:lume_services.results.generic:No project_name passed to result\n",
      "WARNING:lume_services.results.generic:No project_name passed to result\n",
      "WARNING:lume_services.results.generic:No project_name passed to result\n",
      "WARNING:lume_services.results.generic:No project_name passed to result\n",
      "WARNING:lume_services.results.generic:No project_name passed to result\n",
      "WARNING:lume_services.results.generic:No project_name passed to result\n",
      "WARNING:lume_services.results.generic:No project_name passed to result\n",
      "WARNING:lume_services.results.generic:No project_name passed to result\n",
      "WARNING:lume_services.results.generic:No project_name passed to result\n",
      "WARNING:lume_services.results.generic:No project_name passed to result\n",
      "WARNING:lume_services.results.generic:No project_name passed to result\n",
      "WARNING:lume_services.results.generic:No project_name passed to result\n",
      "WARNING:lume_services.results.generic:No project_name passed to result\n",
      "WARNING:lume_services.results.generic:No project_name passed to result\n",
      "WARNING:lume_services.results.generic:No project_name passed to result\n",
      "WARNING:lume_services.results.generic:No project_name passed to result\n",
      "WARNING:lume_services.results.generic:No project_name passed to result\n",
      "WARNING:lume_services.results.generic:No project_name passed to result\n",
      "WARNING:lume_services.results.generic:No project_name passed to result\n",
      "WARNING:lume_services.results.generic:No project_name passed to result\n",
      "WARNING:lume_services.results.generic:No project_name passed to result\n",
      "WARNING:lume_services.results.generic:No project_name passed to result\n",
      "WARNING:lume_services.results.generic:No project_name passed to result\n",
      "WARNING:lume_services.results.generic:No project_name passed to result\n",
      "WARNING:lume_services.results.generic:No project_name passed to result\n",
      "WARNING:lume_services.results.generic:No project_name passed to result\n",
      "WARNING:lume_services.results.generic:No project_name passed to result\n",
      "WARNING:lume_services.results.generic:No project_name passed to result\n",
      "WARNING:lume_services.results.generic:No project_name passed to result\n",
      "WARNING:lume_services.results.generic:No project_name passed to result\n",
      "WARNING:lume_services.results.generic:No project_name passed to result\n",
      "WARNING:lume_services.results.generic:No project_name passed to result\n",
      "WARNING:lume_services.results.generic:No project_name passed to result\n",
      "WARNING:lume_services.results.generic:No project_name passed to result\n",
      "WARNING:lume_services.results.generic:No project_name passed to result\n",
      "WARNING:lume_services.results.generic:No project_name passed to result\n",
      "WARNING:lume_services.results.generic:No project_name passed to result\n",
      "WARNING:lume_services.results.generic:No project_name passed to result\n",
      "WARNING:lume_services.results.generic:No project_name passed to result\n",
      "WARNING:lume_services.results.generic:No project_name passed to result\n",
      "WARNING:lume_services.results.generic:No project_name passed to result\n",
      "WARNING:lume_services.results.generic:No project_name passed to result\n",
      "WARNING:lume_services.results.generic:No project_name passed to result\n",
      "WARNING:lume_services.results.generic:No project_name passed to result\n",
      "WARNING:lume_services.results.generic:No project_name passed to result\n",
      "WARNING:lume_services.results.generic:No project_name passed to result\n",
      "WARNING:lume_services.results.generic:No project_name passed to result\n",
      "WARNING:lume_services.results.generic:No project_name passed to result\n",
      "WARNING:lume_services.results.generic:No project_name passed to result\n",
      "WARNING:lume_services.results.generic:No project_name passed to result\n",
      "WARNING:lume_services.results.generic:No project_name passed to result\n",
      "WARNING:lume_services.results.generic:No project_name passed to result\n",
      "WARNING:lume_services.results.generic:No project_name passed to result\n",
      "WARNING:lume_services.results.generic:No project_name passed to result\n",
      "WARNING:lume_services.results.generic:No project_name passed to result\n",
      "WARNING:lume_services.results.generic:No project_name passed to result\n",
      "WARNING:lume_services.results.generic:No project_name passed to result\n",
      "WARNING:lume_services.results.generic:No project_name passed to result\n",
      "WARNING:lume_services.results.generic:No project_name passed to result\n",
      "WARNING:lume_services.results.generic:No project_name passed to result\n",
      "WARNING:lume_services.results.generic:No project_name passed to result\n",
      "WARNING:lume_services.results.generic:No project_name passed to result\n",
      "WARNING:lume_services.results.generic:No project_name passed to result\n",
      "WARNING:lume_services.results.generic:No project_name passed to result\n",
      "WARNING:lume_services.results.generic:No project_name passed to result\n",
      "WARNING:lume_services.results.generic:No project_name passed to result\n",
      "WARNING:lume_services.results.generic:No project_name passed to result\n",
      "WARNING:lume_services.results.generic:No project_name passed to result\n",
      "WARNING:lume_services.results.generic:No project_name passed to result\n",
      "WARNING:lume_services.results.generic:No project_name passed to result\n",
      "WARNING:lume_services.results.generic:No project_name passed to result\n",
      "WARNING:lume_services.results.generic:No project_name passed to result\n",
      "WARNING:lume_services.results.generic:No project_name passed to result\n",
      "WARNING:lume_services.results.generic:No project_name passed to result\n",
      "WARNING:lume_services.results.generic:No project_name passed to result\n",
      "WARNING:lume_services.results.generic:No project_name passed to result\n",
      "WARNING:lume_services.results.generic:No project_name passed to result\n",
      "WARNING:lume_services.results.generic:No project_name passed to result\n",
      "WARNING:lume_services.results.generic:No project_name passed to result\n",
      "WARNING:lume_services.results.generic:No project_name passed to result\n",
      "WARNING:lume_services.results.generic:No project_name passed to result\n",
      "WARNING:lume_services.results.generic:No project_name passed to result\n",
      "WARNING:lume_services.results.generic:No project_name passed to result\n",
      "WARNING:lume_services.results.generic:No project_name passed to result\n",
      "WARNING:lume_services.results.generic:No project_name passed to result\n",
      "WARNING:lume_services.results.generic:No project_name passed to result\n",
      "WARNING:lume_services.results.generic:No project_name passed to result\n",
      "WARNING:lume_services.results.generic:No project_name passed to result\n",
      "WARNING:lume_services.results.generic:No project_name passed to result\n",
      "WARNING:lume_services.results.generic:No project_name passed to result\n",
      "WARNING:lume_services.results.generic:No project_name passed to result\n",
      "WARNING:lume_services.results.generic:No project_name passed to result\n",
      "WARNING:lume_services.results.generic:No project_name passed to result\n",
      "WARNING:lume_services.results.generic:No project_name passed to result\n",
      "WARNING:lume_services.results.generic:No project_name passed to result\n",
      "WARNING:lume_services.results.generic:No project_name passed to result\n",
      "WARNING:lume_services.results.generic:No project_name passed to result\n",
      "WARNING:lume_services.results.generic:No project_name passed to result\n",
      "WARNING:lume_services.results.generic:No project_name passed to result\n",
      "WARNING:lume_services.results.generic:No project_name passed to result\n",
      "WARNING:lume_services.results.generic:No project_name passed to result\n",
      "WARNING:lume_services.results.generic:No project_name passed to result\n",
      "WARNING:lume_services.results.generic:No project_name passed to result\n",
      "WARNING:lume_services.results.generic:No project_name passed to result\n",
      "WARNING:lume_services.results.generic:No project_name passed to result\n",
      "WARNING:lume_services.results.generic:No project_name passed to result\n",
      "WARNING:lume_services.results.generic:No project_name passed to result\n",
      "WARNING:lume_services.results.generic:No project_name passed to result\n",
      "WARNING:lume_services.results.generic:No project_name passed to result\n",
      "WARNING:lume_services.results.generic:No project_name passed to result\n",
      "WARNING:lume_services.results.generic:No project_name passed to result\n",
      "WARNING:lume_services.results.generic:No project_name passed to result\n",
      "WARNING:lume_services.results.generic:No project_name passed to result\n",
      "WARNING:lume_services.results.generic:No project_name passed to result\n",
      "WARNING:lume_services.results.generic:No project_name passed to result\n",
      "WARNING:lume_services.results.generic:No project_name passed to result\n",
      "WARNING:lume_services.results.generic:No project_name passed to result\n",
      "WARNING:lume_services.results.generic:No project_name passed to result\n",
      "WARNING:lume_services.results.generic:No project_name passed to result\n",
      "WARNING:lume_services.results.generic:No project_name passed to result\n",
      "WARNING:lume_services.results.generic:No project_name passed to result\n",
      "WARNING:lume_services.results.generic:No project_name passed to result\n",
      "WARNING:lume_services.results.generic:No project_name passed to result\n",
      "WARNING:lume_services.results.generic:No project_name passed to result\n",
      "WARNING:lume_services.results.generic:No project_name passed to result\n",
      "WARNING:lume_services.results.generic:No project_name passed to result\n",
      "WARNING:lume_services.results.generic:No project_name passed to result\n",
      "WARNING:lume_services.results.generic:No project_name passed to result\n",
      "WARNING:lume_services.results.generic:No project_name passed to result\n",
      "WARNING:lume_services.results.generic:No project_name passed to result\n",
      "WARNING:lume_services.results.generic:No project_name passed to result\n",
      "WARNING:lume_services.results.generic:No project_name passed to result\n",
      "WARNING:lume_services.results.generic:No project_name passed to result\n",
      "WARNING:lume_services.results.generic:No project_name passed to result\n",
      "WARNING:lume_services.results.generic:No project_name passed to result\n",
      "WARNING:lume_services.results.generic:No project_name passed to result\n",
      "WARNING:lume_services.results.generic:No project_name passed to result\n",
      "WARNING:lume_services.results.generic:No project_name passed to result\n",
      "WARNING:lume_services.results.generic:No project_name passed to result\n",
      "WARNING:lume_services.results.generic:No project_name passed to result\n",
      "WARNING:lume_services.results.generic:No project_name passed to result\n",
      "WARNING:lume_services.results.generic:No project_name passed to result\n",
      "WARNING:lume_services.results.generic:No project_name passed to result\n",
      "WARNING:lume_services.results.generic:No project_name passed to result\n",
      "WARNING:lume_services.results.generic:No project_name passed to result\n",
      "WARNING:lume_services.results.generic:No project_name passed to result\n",
      "WARNING:lume_services.results.generic:No project_name passed to result\n",
      "WARNING:lume_services.results.generic:No project_name passed to result\n",
      "WARNING:lume_services.results.generic:No project_name passed to result\n",
      "WARNING:lume_services.results.generic:No project_name passed to result\n",
      "WARNING:lume_services.results.generic:No project_name passed to result\n",
      "WARNING:lume_services.results.generic:No project_name passed to result\n",
      "WARNING:lume_services.results.generic:No project_name passed to result\n",
      "WARNING:lume_services.results.generic:No project_name passed to result\n",
      "WARNING:lume_services.results.generic:No project_name passed to result\n",
      "WARNING:lume_services.results.generic:No project_name passed to result\n",
      "WARNING:lume_services.results.generic:No project_name passed to result\n",
      "WARNING:lume_services.results.generic:No project_name passed to result\n",
      "WARNING:lume_services.results.generic:No project_name passed to result\n",
      "WARNING:lume_services.results.generic:No project_name passed to result\n",
      "WARNING:lume_services.results.generic:No project_name passed to result\n",
      "WARNING:lume_services.results.generic:No project_name passed to result\n",
      "WARNING:lume_services.results.generic:No project_name passed to result\n",
      "WARNING:lume_services.results.generic:No project_name passed to result\n",
      "WARNING:lume_services.results.generic:No project_name passed to result\n",
      "WARNING:lume_services.results.generic:No project_name passed to result\n",
      "WARNING:lume_services.results.generic:No project_name passed to result\n",
      "WARNING:lume_services.results.generic:No project_name passed to result\n",
      "WARNING:lume_services.results.generic:No project_name passed to result\n",
      "WARNING:lume_services.results.generic:No project_name passed to result\n",
      "WARNING:lume_services.results.generic:No project_name passed to result\n",
      "WARNING:lume_services.results.generic:No project_name passed to result\n",
      "WARNING:lume_services.results.generic:No project_name passed to result\n",
      "WARNING:lume_services.results.generic:No project_name passed to result\n",
      "WARNING:lume_services.results.generic:No project_name passed to result\n",
      "WARNING:lume_services.results.generic:No project_name passed to result\n",
      "WARNING:lume_services.results.generic:No project_name passed to result\n",
      "WARNING:lume_services.results.generic:No project_name passed to result\n",
      "WARNING:lume_services.results.generic:No project_name passed to result\n",
      "WARNING:lume_services.results.generic:No project_name passed to result\n",
      "WARNING:lume_services.results.generic:No project_name passed to result\n",
      "WARNING:lume_services.results.generic:No project_name passed to result\n",
      "WARNING:lume_services.results.generic:No project_name passed to result\n",
      "WARNING:lume_services.results.generic:No project_name passed to result\n",
      "WARNING:lume_services.results.generic:No project_name passed to result\n",
      "WARNING:lume_services.results.generic:No project_name passed to result\n",
      "WARNING:lume_services.results.generic:No project_name passed to result\n",
      "WARNING:lume_services.results.generic:No project_name passed to result\n",
      "WARNING:lume_services.results.generic:No project_name passed to result\n",
      "WARNING:lume_services.results.generic:No project_name passed to result\n",
      "WARNING:lume_services.results.generic:No project_name passed to result\n",
      "WARNING:lume_services.results.generic:No project_name passed to result\n",
      "WARNING:lume_services.results.generic:No project_name passed to result\n",
      "WARNING:lume_services.results.generic:No project_name passed to result\n",
      "WARNING:lume_services.results.generic:No project_name passed to result\n",
      "WARNING:lume_services.results.generic:No project_name passed to result\n",
      "WARNING:lume_services.results.generic:No project_name passed to result\n",
      "WARNING:lume_services.results.generic:No project_name passed to result\n",
      "WARNING:lume_services.results.generic:No project_name passed to result\n",
      "WARNING:lume_services.results.generic:No project_name passed to result\n",
      "WARNING:lume_services.results.generic:No project_name passed to result\n",
      "WARNING:lume_services.results.generic:No project_name passed to result\n",
      "WARNING:lume_services.results.generic:No project_name passed to result\n",
      "WARNING:lume_services.results.generic:No project_name passed to result\n",
      "WARNING:lume_services.results.generic:No project_name passed to result\n",
      "WARNING:lume_services.results.generic:No project_name passed to result\n",
      "WARNING:lume_services.results.generic:No project_name passed to result\n",
      "WARNING:lume_services.results.generic:No project_name passed to result\n",
      "WARNING:lume_services.results.generic:No project_name passed to result\n",
      "WARNING:lume_services.results.generic:No project_name passed to result\n",
      "WARNING:lume_services.results.generic:No project_name passed to result\n",
      "WARNING:lume_services.results.generic:No project_name passed to result\n",
      "WARNING:lume_services.results.generic:No project_name passed to result\n",
      "WARNING:lume_services.results.generic:No project_name passed to result\n",
      "WARNING:lume_services.results.generic:No project_name passed to result\n",
      "WARNING:lume_services.results.generic:No project_name passed to result\n",
      "WARNING:lume_services.results.generic:No project_name passed to result\n",
      "WARNING:lume_services.results.generic:No project_name passed to result\n",
      "WARNING:lume_services.results.generic:No project_name passed to result\n",
      "WARNING:lume_services.results.generic:No project_name passed to result\n",
      "WARNING:lume_services.results.generic:No project_name passed to result\n",
      "WARNING:lume_services.results.generic:No project_name passed to result\n",
      "WARNING:lume_services.results.generic:No project_name passed to result\n",
      "WARNING:lume_services.results.generic:No project_name passed to result\n",
      "WARNING:lume_services.results.generic:No project_name passed to result\n",
      "WARNING:lume_services.results.generic:No project_name passed to result\n",
      "WARNING:lume_services.results.generic:No project_name passed to result\n",
      "WARNING:lume_services.results.generic:No project_name passed to result\n",
      "WARNING:lume_services.results.generic:No project_name passed to result\n",
      "WARNING:lume_services.results.generic:No project_name passed to result\n",
      "WARNING:lume_services.results.generic:No project_name passed to result\n",
      "WARNING:lume_services.results.generic:No project_name passed to result\n",
      "WARNING:lume_services.results.generic:No project_name passed to result\n",
      "WARNING:lume_services.results.generic:No project_name passed to result\n",
      "WARNING:lume_services.results.generic:No project_name passed to result\n",
      "WARNING:lume_services.results.generic:No project_name passed to result\n",
      "WARNING:lume_services.results.generic:No project_name passed to result\n",
      "WARNING:lume_services.results.generic:No project_name passed to result\n",
      "WARNING:lume_services.results.generic:No project_name passed to result\n",
      "WARNING:lume_services.results.generic:No project_name passed to result\n",
      "WARNING:lume_services.results.generic:No project_name passed to result\n",
      "WARNING:lume_services.results.generic:No project_name passed to result\n",
      "WARNING:lume_services.results.generic:No project_name passed to result\n",
      "WARNING:lume_services.results.generic:No project_name passed to result\n",
      "WARNING:lume_services.results.generic:No project_name passed to result\n",
      "WARNING:lume_services.results.generic:No project_name passed to result\n",
      "WARNING:lume_services.results.generic:No project_name passed to result\n",
      "WARNING:lume_services.results.generic:No project_name passed to result\n",
      "WARNING:lume_services.results.generic:No project_name passed to result\n",
      "WARNING:lume_services.results.generic:No project_name passed to result\n",
      "WARNING:lume_services.results.generic:No project_name passed to result\n",
      "WARNING:lume_services.results.generic:No project_name passed to result\n",
      "WARNING:lume_services.results.generic:No project_name passed to result\n",
      "WARNING:lume_services.results.generic:No project_name passed to result\n",
      "WARNING:lume_services.results.generic:No project_name passed to result\n",
      "WARNING:lume_services.results.generic:No project_name passed to result\n",
      "WARNING:lume_services.results.generic:No project_name passed to result\n",
      "WARNING:lume_services.results.generic:No project_name passed to result\n",
      "WARNING:lume_services.results.generic:No project_name passed to result\n",
      "WARNING:lume_services.results.generic:No project_name passed to result\n",
      "WARNING:lume_services.results.generic:No project_name passed to result\n",
      "WARNING:lume_services.results.generic:No project_name passed to result\n",
      "WARNING:lume_services.results.generic:No project_name passed to result\n",
      "WARNING:lume_services.results.generic:No project_name passed to result\n",
      "WARNING:lume_services.results.generic:No project_name passed to result\n",
      "WARNING:lume_services.results.generic:No project_name passed to result\n",
      "WARNING:lume_services.results.generic:No project_name passed to result\n",
      "WARNING:lume_services.results.generic:No project_name passed to result\n",
      "WARNING:lume_services.results.generic:No project_name passed to result\n",
      "WARNING:lume_services.results.generic:No project_name passed to result\n",
      "WARNING:lume_services.results.generic:No project_name passed to result\n",
      "WARNING:lume_services.results.generic:No project_name passed to result\n",
      "WARNING:lume_services.results.generic:No project_name passed to result\n",
      "WARNING:lume_services.results.generic:No project_name passed to result\n",
      "WARNING:lume_services.results.generic:No project_name passed to result\n",
      "WARNING:lume_services.results.generic:No project_name passed to result\n",
      "WARNING:lume_services.results.generic:No project_name passed to result\n",
      "WARNING:lume_services.results.generic:No project_name passed to result\n",
      "WARNING:lume_services.results.generic:No project_name passed to result\n",
      "WARNING:lume_services.results.generic:No project_name passed to result\n",
      "WARNING:lume_services.results.generic:No project_name passed to result\n",
      "WARNING:lume_services.results.generic:No project_name passed to result\n",
      "WARNING:lume_services.results.generic:No project_name passed to result\n",
      "WARNING:lume_services.results.generic:No project_name passed to result\n",
      "WARNING:lume_services.results.generic:No project_name passed to result\n",
      "WARNING:lume_services.results.generic:No project_name passed to result\n"
     ]
    },
    {
     "data": {
      "text/html": [
       "<div>\n",
       "<style scoped>\n",
       "    .dataframe tbody tr th:only-of-type {\n",
       "        vertical-align: middle;\n",
       "    }\n",
       "\n",
       "    .dataframe tbody tr th {\n",
       "        vertical-align: top;\n",
       "    }\n",
       "\n",
       "    .dataframe thead th {\n",
       "        text-align: right;\n",
       "    }\n",
       "</style>\n",
       "<table border=\"1\" class=\"dataframe\">\n",
       "  <thead>\n",
       "    <tr style=\"text-align: right;\">\n",
       "      <th></th>\n",
       "      <th>project_name</th>\n",
       "      <th>flow_id</th>\n",
       "      <th>distgen:r_dist:sigma_xy:value</th>\n",
       "      <th>distgen:t_dist:length:value</th>\n",
       "      <th>distgen:total_charge:value</th>\n",
       "      <th>SOL1:solenoid_field_scale</th>\n",
       "      <th>CQ01:b1_gradient</th>\n",
       "      <th>SQ01:b1_gradient</th>\n",
       "      <th>L0A_scale:voltage</th>\n",
       "      <th>L0A_phase:dtheta0_deg</th>\n",
       "      <th>...</th>\n",
       "      <th>QE03:b1_gradient</th>\n",
       "      <th>QE04:b1_gradient</th>\n",
       "      <th>sigma_x</th>\n",
       "      <th>sigma_y</th>\n",
       "      <th>sigma_z</th>\n",
       "      <th>norm_emit_x</th>\n",
       "      <th>norm_emit_y</th>\n",
       "      <th>date_modified</th>\n",
       "      <th>unique_hash</th>\n",
       "      <th>result_type_string</th>\n",
       "    </tr>\n",
       "  </thead>\n",
       "  <tbody>\n",
       "    <tr>\n",
       "      <th>36</th>\n",
       "      <td>local</td>\n",
       "      <td>91d2bda4-7ae3-4175-ae22-d8d99be69d4c</td>\n",
       "      <td>0.126751</td>\n",
       "      <td>12.711213</td>\n",
       "      <td>0.000040</td>\n",
       "      <td>0.122769</td>\n",
       "      <td>0.000319</td>\n",
       "      <td>-0.001625</td>\n",
       "      <td>58000000000000.000000</td>\n",
       "      <td>-23.663668</td>\n",
       "      <td>...</td>\n",
       "      <td>5.735181</td>\n",
       "      <td>-3.331524</td>\n",
       "      <td>13960970485.127405</td>\n",
       "      <td>88736420514.612457</td>\n",
       "      <td>6334030767.782218</td>\n",
       "      <td>31212689.843274</td>\n",
       "      <td>92256092.636750</td>\n",
       "      <td>2023-08-02 19:10:35.376</td>\n",
       "      <td>7cf1bbb54a357861d3d38bc37f0616fb</td>\n",
       "      <td>lume_services.results.generic.Result</td>\n",
       "    </tr>\n",
       "    <tr>\n",
       "      <th>37</th>\n",
       "      <td>local</td>\n",
       "      <td>91d2bda4-7ae3-4175-ae22-d8d99be69d4c</td>\n",
       "      <td>0.151916</td>\n",
       "      <td>15.947556</td>\n",
       "      <td>0.000040</td>\n",
       "      <td>0.113435</td>\n",
       "      <td>-0.004751</td>\n",
       "      <td>0.004164</td>\n",
       "      <td>58000000000000.000000</td>\n",
       "      <td>0.272906</td>\n",
       "      <td>...</td>\n",
       "      <td>4.162508</td>\n",
       "      <td>-4.074572</td>\n",
       "      <td>13960970485.127516</td>\n",
       "      <td>88736420514.613327</td>\n",
       "      <td>6334030767.782199</td>\n",
       "      <td>31212689.843274</td>\n",
       "      <td>92256092.636750</td>\n",
       "      <td>2023-08-02 19:10:35.356</td>\n",
       "      <td>c895b7df987887fc107b047f6547e6e2</td>\n",
       "      <td>lume_services.results.generic.Result</td>\n",
       "    </tr>\n",
       "    <tr>\n",
       "      <th>38</th>\n",
       "      <td>local</td>\n",
       "      <td>91d2bda4-7ae3-4175-ae22-d8d99be69d4c</td>\n",
       "      <td>0.164094</td>\n",
       "      <td>7.039449</td>\n",
       "      <td>0.000040</td>\n",
       "      <td>0.118204</td>\n",
       "      <td>-0.003612</td>\n",
       "      <td>0.001318</td>\n",
       "      <td>58000000000000.000000</td>\n",
       "      <td>-12.496416</td>\n",
       "      <td>...</td>\n",
       "      <td>3.370419</td>\n",
       "      <td>-2.399250</td>\n",
       "      <td>13960970485.128111</td>\n",
       "      <td>88736420514.612366</td>\n",
       "      <td>6334030767.782142</td>\n",
       "      <td>31212689.843273</td>\n",
       "      <td>92256092.636750</td>\n",
       "      <td>2023-08-02 19:10:37.380</td>\n",
       "      <td>debb8ee52ebbfb21420529672c064162</td>\n",
       "      <td>lume_services.results.generic.Result</td>\n",
       "    </tr>\n",
       "    <tr>\n",
       "      <th>39</th>\n",
       "      <td>local</td>\n",
       "      <td>91d2bda4-7ae3-4175-ae22-d8d99be69d4c</td>\n",
       "      <td>0.165070</td>\n",
       "      <td>19.787784</td>\n",
       "      <td>0.000040</td>\n",
       "      <td>0.116274</td>\n",
       "      <td>-0.000296</td>\n",
       "      <td>0.002512</td>\n",
       "      <td>58000000000000.000000</td>\n",
       "      <td>-17.587760</td>\n",
       "      <td>...</td>\n",
       "      <td>0.641963</td>\n",
       "      <td>-1.354019</td>\n",
       "      <td>13960970485.127523</td>\n",
       "      <td>88736420514.614090</td>\n",
       "      <td>6334030767.782264</td>\n",
       "      <td>31212689.843274</td>\n",
       "      <td>92256092.636750</td>\n",
       "      <td>2023-08-02 19:10:36.673</td>\n",
       "      <td>6ba9b4bfc1b381865a41e6923affc288</td>\n",
       "      <td>lume_services.results.generic.Result</td>\n",
       "    </tr>\n",
       "    <tr>\n",
       "      <th>40</th>\n",
       "      <td>local</td>\n",
       "      <td>91d2bda4-7ae3-4175-ae22-d8d99be69d4c</td>\n",
       "      <td>0.130737</td>\n",
       "      <td>9.632320</td>\n",
       "      <td>0.000040</td>\n",
       "      <td>0.118273</td>\n",
       "      <td>-0.000187</td>\n",
       "      <td>0.003083</td>\n",
       "      <td>58000000000000.000000</td>\n",
       "      <td>2.793542</td>\n",
       "      <td>...</td>\n",
       "      <td>3.471074</td>\n",
       "      <td>-2.166201</td>\n",
       "      <td>13960970485.127966</td>\n",
       "      <td>88736420514.612579</td>\n",
       "      <td>6334030767.782164</td>\n",
       "      <td>31212689.843273</td>\n",
       "      <td>92256092.636750</td>\n",
       "      <td>2023-08-02 19:10:37.396</td>\n",
       "      <td>61127f14d2b42dcd63698168512e3cc6</td>\n",
       "      <td>lume_services.results.generic.Result</td>\n",
       "    </tr>\n",
       "    <tr>\n",
       "      <th>...</th>\n",
       "      <td>...</td>\n",
       "      <td>...</td>\n",
       "      <td>...</td>\n",
       "      <td>...</td>\n",
       "      <td>...</td>\n",
       "      <td>...</td>\n",
       "      <td>...</td>\n",
       "      <td>...</td>\n",
       "      <td>...</td>\n",
       "      <td>...</td>\n",
       "      <td>...</td>\n",
       "      <td>...</td>\n",
       "      <td>...</td>\n",
       "      <td>...</td>\n",
       "      <td>...</td>\n",
       "      <td>...</td>\n",
       "      <td>...</td>\n",
       "      <td>...</td>\n",
       "      <td>...</td>\n",
       "      <td>...</td>\n",
       "      <td>...</td>\n",
       "    </tr>\n",
       "    <tr>\n",
       "      <th>314</th>\n",
       "      <td>local</td>\n",
       "      <td>91d2bda4-7ae3-4175-ae22-d8d99be69d4c</td>\n",
       "      <td>0.164018</td>\n",
       "      <td>4.954761</td>\n",
       "      <td>0.000040</td>\n",
       "      <td>0.126408</td>\n",
       "      <td>0.000440</td>\n",
       "      <td>0.000287</td>\n",
       "      <td>58000000000000.000000</td>\n",
       "      <td>-15.176219</td>\n",
       "      <td>...</td>\n",
       "      <td>1.847984</td>\n",
       "      <td>-2.689217</td>\n",
       "      <td>13960970485.127668</td>\n",
       "      <td>88736420514.613571</td>\n",
       "      <td>6334030767.782206</td>\n",
       "      <td>31212689.843273</td>\n",
       "      <td>92256092.636751</td>\n",
       "      <td>2023-08-02 19:13:54.899</td>\n",
       "      <td>4874b78169e2833a0f5a89bad3fd23d6</td>\n",
       "      <td>lume_services.results.generic.Result</td>\n",
       "    </tr>\n",
       "    <tr>\n",
       "      <th>315</th>\n",
       "      <td>local</td>\n",
       "      <td>91d2bda4-7ae3-4175-ae22-d8d99be69d4c</td>\n",
       "      <td>0.166664</td>\n",
       "      <td>4.958956</td>\n",
       "      <td>0.000040</td>\n",
       "      <td>0.123979</td>\n",
       "      <td>-0.002341</td>\n",
       "      <td>0.001867</td>\n",
       "      <td>58000000000000.000000</td>\n",
       "      <td>-23.675180</td>\n",
       "      <td>...</td>\n",
       "      <td>1.326117</td>\n",
       "      <td>-1.719206</td>\n",
       "      <td>13960970485.128017</td>\n",
       "      <td>88736420514.612854</td>\n",
       "      <td>6334030767.782188</td>\n",
       "      <td>31212689.843273</td>\n",
       "      <td>92256092.636751</td>\n",
       "      <td>2023-08-02 19:13:41.477</td>\n",
       "      <td>1361542340f6c92832dd32844d1a47e6</td>\n",
       "      <td>lume_services.results.generic.Result</td>\n",
       "    </tr>\n",
       "    <tr>\n",
       "      <th>316</th>\n",
       "      <td>local</td>\n",
       "      <td>91d2bda4-7ae3-4175-ae22-d8d99be69d4c</td>\n",
       "      <td>0.166262</td>\n",
       "      <td>4.955949</td>\n",
       "      <td>0.000040</td>\n",
       "      <td>0.125926</td>\n",
       "      <td>0.000300</td>\n",
       "      <td>-0.000089</td>\n",
       "      <td>58000000000000.000000</td>\n",
       "      <td>-16.681743</td>\n",
       "      <td>...</td>\n",
       "      <td>-0.476534</td>\n",
       "      <td>-2.682376</td>\n",
       "      <td>13960970485.127651</td>\n",
       "      <td>88736420514.613098</td>\n",
       "      <td>6334030767.782189</td>\n",
       "      <td>31212689.843273</td>\n",
       "      <td>92256092.636751</td>\n",
       "      <td>2023-08-02 19:13:48.715</td>\n",
       "      <td>cb6577f0d968baf24b67613b8c3dd527</td>\n",
       "      <td>lume_services.results.generic.Result</td>\n",
       "    </tr>\n",
       "    <tr>\n",
       "      <th>317</th>\n",
       "      <td>local</td>\n",
       "      <td>91d2bda4-7ae3-4175-ae22-d8d99be69d4c</td>\n",
       "      <td>0.165048</td>\n",
       "      <td>4.965671</td>\n",
       "      <td>0.000040</td>\n",
       "      <td>0.126404</td>\n",
       "      <td>-0.000192</td>\n",
       "      <td>0.000190</td>\n",
       "      <td>58000000000000.000000</td>\n",
       "      <td>-15.430065</td>\n",
       "      <td>...</td>\n",
       "      <td>2.001228</td>\n",
       "      <td>-2.699869</td>\n",
       "      <td>13960970485.127745</td>\n",
       "      <td>88736420514.613586</td>\n",
       "      <td>6334030767.782208</td>\n",
       "      <td>31212689.843274</td>\n",
       "      <td>92256092.636751</td>\n",
       "      <td>2023-08-02 19:14:01.353</td>\n",
       "      <td>32fde15c97e9c80b8821aa5134f1ec79</td>\n",
       "      <td>lume_services.results.generic.Result</td>\n",
       "    </tr>\n",
       "    <tr>\n",
       "      <th>318</th>\n",
       "      <td>local</td>\n",
       "      <td>91d2bda4-7ae3-4175-ae22-d8d99be69d4c</td>\n",
       "      <td>0.152220</td>\n",
       "      <td>9.921141</td>\n",
       "      <td>0.000040</td>\n",
       "      <td>0.124889</td>\n",
       "      <td>-0.003123</td>\n",
       "      <td>0.001610</td>\n",
       "      <td>58000000000000.000000</td>\n",
       "      <td>0.981610</td>\n",
       "      <td>...</td>\n",
       "      <td>0.491119</td>\n",
       "      <td>-4.054454</td>\n",
       "      <td>13960970485.127098</td>\n",
       "      <td>88736420514.612976</td>\n",
       "      <td>6334030767.782178</td>\n",
       "      <td>31212689.843273</td>\n",
       "      <td>92256092.636750</td>\n",
       "      <td>2023-08-02 19:14:10.666</td>\n",
       "      <td>449983524aa0bf87954bf4054add4326</td>\n",
       "      <td>lume_services.results.generic.Result</td>\n",
       "    </tr>\n",
       "  </tbody>\n",
       "</table>\n",
       "<p>283 rows × 26 columns</p>\n",
       "</div>"
      ],
      "text/plain": [
       "    project_name                               flow_id  \\\n",
       "36         local  91d2bda4-7ae3-4175-ae22-d8d99be69d4c   \n",
       "37         local  91d2bda4-7ae3-4175-ae22-d8d99be69d4c   \n",
       "38         local  91d2bda4-7ae3-4175-ae22-d8d99be69d4c   \n",
       "39         local  91d2bda4-7ae3-4175-ae22-d8d99be69d4c   \n",
       "40         local  91d2bda4-7ae3-4175-ae22-d8d99be69d4c   \n",
       "..           ...                                   ...   \n",
       "314        local  91d2bda4-7ae3-4175-ae22-d8d99be69d4c   \n",
       "315        local  91d2bda4-7ae3-4175-ae22-d8d99be69d4c   \n",
       "316        local  91d2bda4-7ae3-4175-ae22-d8d99be69d4c   \n",
       "317        local  91d2bda4-7ae3-4175-ae22-d8d99be69d4c   \n",
       "318        local  91d2bda4-7ae3-4175-ae22-d8d99be69d4c   \n",
       "\n",
       "     distgen:r_dist:sigma_xy:value  distgen:t_dist:length:value  \\\n",
       "36                        0.126751                    12.711213   \n",
       "37                        0.151916                    15.947556   \n",
       "38                        0.164094                     7.039449   \n",
       "39                        0.165070                    19.787784   \n",
       "40                        0.130737                     9.632320   \n",
       "..                             ...                          ...   \n",
       "314                       0.164018                     4.954761   \n",
       "315                       0.166664                     4.958956   \n",
       "316                       0.166262                     4.955949   \n",
       "317                       0.165048                     4.965671   \n",
       "318                       0.152220                     9.921141   \n",
       "\n",
       "     distgen:total_charge:value  SOL1:solenoid_field_scale  CQ01:b1_gradient  \\\n",
       "36                     0.000040                   0.122769          0.000319   \n",
       "37                     0.000040                   0.113435         -0.004751   \n",
       "38                     0.000040                   0.118204         -0.003612   \n",
       "39                     0.000040                   0.116274         -0.000296   \n",
       "40                     0.000040                   0.118273         -0.000187   \n",
       "..                          ...                        ...               ...   \n",
       "314                    0.000040                   0.126408          0.000440   \n",
       "315                    0.000040                   0.123979         -0.002341   \n",
       "316                    0.000040                   0.125926          0.000300   \n",
       "317                    0.000040                   0.126404         -0.000192   \n",
       "318                    0.000040                   0.124889         -0.003123   \n",
       "\n",
       "     SQ01:b1_gradient     L0A_scale:voltage  L0A_phase:dtheta0_deg  ...  \\\n",
       "36          -0.001625 58000000000000.000000             -23.663668  ...   \n",
       "37           0.004164 58000000000000.000000               0.272906  ...   \n",
       "38           0.001318 58000000000000.000000             -12.496416  ...   \n",
       "39           0.002512 58000000000000.000000             -17.587760  ...   \n",
       "40           0.003083 58000000000000.000000               2.793542  ...   \n",
       "..                ...                   ...                    ...  ...   \n",
       "314          0.000287 58000000000000.000000             -15.176219  ...   \n",
       "315          0.001867 58000000000000.000000             -23.675180  ...   \n",
       "316         -0.000089 58000000000000.000000             -16.681743  ...   \n",
       "317          0.000190 58000000000000.000000             -15.430065  ...   \n",
       "318          0.001610 58000000000000.000000               0.981610  ...   \n",
       "\n",
       "     QE03:b1_gradient  QE04:b1_gradient            sigma_x            sigma_y  \\\n",
       "36           5.735181         -3.331524 13960970485.127405 88736420514.612457   \n",
       "37           4.162508         -4.074572 13960970485.127516 88736420514.613327   \n",
       "38           3.370419         -2.399250 13960970485.128111 88736420514.612366   \n",
       "39           0.641963         -1.354019 13960970485.127523 88736420514.614090   \n",
       "40           3.471074         -2.166201 13960970485.127966 88736420514.612579   \n",
       "..                ...               ...                ...                ...   \n",
       "314          1.847984         -2.689217 13960970485.127668 88736420514.613571   \n",
       "315          1.326117         -1.719206 13960970485.128017 88736420514.612854   \n",
       "316         -0.476534         -2.682376 13960970485.127651 88736420514.613098   \n",
       "317          2.001228         -2.699869 13960970485.127745 88736420514.613586   \n",
       "318          0.491119         -4.054454 13960970485.127098 88736420514.612976   \n",
       "\n",
       "              sigma_z     norm_emit_x     norm_emit_y           date_modified  \\\n",
       "36  6334030767.782218 31212689.843274 92256092.636750 2023-08-02 19:10:35.376   \n",
       "37  6334030767.782199 31212689.843274 92256092.636750 2023-08-02 19:10:35.356   \n",
       "38  6334030767.782142 31212689.843273 92256092.636750 2023-08-02 19:10:37.380   \n",
       "39  6334030767.782264 31212689.843274 92256092.636750 2023-08-02 19:10:36.673   \n",
       "40  6334030767.782164 31212689.843273 92256092.636750 2023-08-02 19:10:37.396   \n",
       "..                ...             ...             ...                     ...   \n",
       "314 6334030767.782206 31212689.843273 92256092.636751 2023-08-02 19:13:54.899   \n",
       "315 6334030767.782188 31212689.843273 92256092.636751 2023-08-02 19:13:41.477   \n",
       "316 6334030767.782189 31212689.843273 92256092.636751 2023-08-02 19:13:48.715   \n",
       "317 6334030767.782208 31212689.843274 92256092.636751 2023-08-02 19:14:01.353   \n",
       "318 6334030767.782178 31212689.843273 92256092.636750 2023-08-02 19:14:10.666   \n",
       "\n",
       "                          unique_hash                    result_type_string  \n",
       "36   7cf1bbb54a357861d3d38bc37f0616fb  lume_services.results.generic.Result  \n",
       "37   c895b7df987887fc107b047f6547e6e2  lume_services.results.generic.Result  \n",
       "38   debb8ee52ebbfb21420529672c064162  lume_services.results.generic.Result  \n",
       "39   6ba9b4bfc1b381865a41e6923affc288  lume_services.results.generic.Result  \n",
       "40   61127f14d2b42dcd63698168512e3cc6  lume_services.results.generic.Result  \n",
       "..                                ...                                   ...  \n",
       "314  4874b78169e2833a0f5a89bad3fd23d6  lume_services.results.generic.Result  \n",
       "315  1361542340f6c92832dd32844d1a47e6  lume_services.results.generic.Result  \n",
       "316  cb6577f0d968baf24b67613b8c3dd527  lume_services.results.generic.Result  \n",
       "317  32fde15c97e9c80b8821aa5134f1ec79  lume_services.results.generic.Result  \n",
       "318  449983524aa0bf87954bf4054add4326  lume_services.results.generic.Result  \n",
       "\n",
       "[283 rows x 26 columns]"
      ]
     },
     "execution_count": 61,
     "metadata": {},
     "output_type": "execute_result"
    }
   ],
   "source": [
    "results_df = model.get_results_df()\n",
    "results_analysis_df = results_df.tail(len(outputs_small))\n",
    "import pandas as pd\n",
    "pd.set_option('display.float_format', lambda x: '%.6f' % x)\n",
    "results_analysis_df"
   ]
  },
  {
   "cell_type": "code",
   "execution_count": 56,
   "id": "eef0b9b2-ce74-4c26-b34d-2aa3de44e24c",
   "metadata": {},
   "outputs": [
    {
     "name": "stdout",
     "output_type": "stream",
     "text": [
      "tensor([[1.6865e-04, 1.5951e-03, 5.4243e-04, 1.3961e-06, 1.1763e-06],\n",
      "        [2.1181e-04, 9.4538e-04, 6.6706e-04, 1.2047e-06, 1.1375e-06],\n",
      "        [1.5581e-04, 4.1547e-04, 7.0747e-04, 1.7956e-06, 1.1327e-06],\n",
      "        ...,\n",
      "        [1.1650e-03, 1.3775e-03, 4.2662e-04, 5.8428e-07, 5.9902e-07],\n",
      "        [1.5276e-03, 1.6748e-03, 4.2555e-04, 5.8950e-07, 5.9003e-07],\n",
      "        [9.4594e-04, 8.9255e-05, 5.1811e-04, 7.4990e-07, 9.8542e-07]],\n",
      "       dtype=torch.float64)\n",
      "tensor([[1.3961e+10, 8.8736e+10, 6.3340e+09, 3.1213e+07, 9.2256e+07],\n",
      "        [1.3961e+10, 8.8736e+10, 6.3340e+09, 3.1213e+07, 9.2256e+07],\n",
      "        [1.3961e+10, 8.8736e+10, 6.3340e+09, 3.1213e+07, 9.2256e+07],\n",
      "        ...,\n",
      "        [1.3961e+10, 8.8736e+10, 6.3340e+09, 3.1213e+07, 9.2256e+07],\n",
      "        [1.3961e+10, 8.8736e+10, 6.3340e+09, 3.1213e+07, 9.2256e+07],\n",
      "        [1.3961e+10, 8.8736e+10, 6.3340e+09, 3.1213e+07, 9.2256e+07]])\n"
     ]
    }
   ],
   "source": [
    "output_cols = list(output_variables.keys())\n",
    "predictions = torch.Tensor(results_analysis_df[output_cols].to_numpy())"
   ]
  },
  {
   "cell_type": "code",
   "execution_count": 58,
   "id": "f6883524-c2d8-4065-831b-3807393c23d3",
   "metadata": {},
   "outputs": [
    {
     "data": {
      "image/png": "[encoded data removed]",
      "text/plain": [
       "<Figure size 1000x1500 with 6 Axes>"
      ]
     },
     "metadata": {},
     "output_type": "display_data"
    }
   ],
   "source": [
    "import matplotlib.pyplot as plt\n",
    "nrows, ncols = 3, 2\n",
    "fig, ax = plt.subplots(nrows=nrows, ncols=ncols, figsize=(10, 15))\n",
    "for i in range(nrows * ncols):\n",
    "    ax_i = ax[i // ncols, i % ncols]\n",
    "    if i < outputs_small.shape[1]:\n",
    "        sort_idx = torch.argsort(outputs_small[:, i])\n",
    "        x_axis = torch.arange(outputs_small.shape[0])\n",
    "        ax_i.plot(x_axis, outputs_small[sort_idx, i], \"C0x\", label=\"outputs\")\n",
    "        ax_i.plot(x_axis, predictions[sort_idx, i], \"C1x\", label=\"predictions\")\n",
    "        ax_i.legend()\n",
    "    else:\n",
    "        ax_i.axis('off')\n",
    "fig.tight_layout()"
   ]
  },
  {
   "cell_type": "markdown",
   "id": "e4f26a31",
   "metadata": {},
   "source": [
    "# Load model using model id\n",
    "Once your model has been registered, you can use the `Model` api object to interact with your model without running the above registration steps. Let's load a new model object using the model_id we registered above."
   ]
  },
  {
   "cell_type": "code",
   "execution_count": 30,
   "id": "d6ef8e4e",
   "metadata": {},
   "outputs": [
    {
     "name": "stderr",
     "output_type": "stream",
     "text": [
      "INFO:lume_services.services.models.db.db:ModelDB selecting: SELECT model.model_id, model.created, model.author, model.laboratory, model.facility, model.beampath, model.description \n",
      "FROM model \n",
      "WHERE model.model_id = :model_id_1\n"
     ]
    }
   ],
   "source": [
    "from importlib import reload \n",
    "import lume_services\n",
    "reload(lume_services.models)\n",
    "from lume_services.models import Model\n",
    "\n",
    "#model_id = model.metadata.model_id\n",
    "loaded_model = Model(model_id=1)"
   ]
  },
  {
   "cell_type": "code",
   "execution_count": 31,
   "id": "f7a15668",
   "metadata": {},
   "outputs": [
    {
     "data": {
      "text/plain": [
       "Model(                     model_id=1,                     created=datetime.datetime(2023, 8, 2, 6, 9, 14),                     author='Aman Singh Thakur'),                     laboratory='slac',                     facility='lcls',                     beampath='cu',                     description='lcls-cu-inj-nn'                 )"
      ]
     },
     "execution_count": 31,
     "metadata": {},
     "output_type": "execute_result"
    }
   ],
   "source": [
    "loaded_model.metadata"
   ]
  },
  {
   "cell_type": "markdown",
   "id": "26ca3ce4",
   "metadata": {},
   "source": [
    "## Load existing model object\n",
    "Loading a model using the load_deployment method without passing a deployment_id will load the latest deployment registered for the model."
   ]
  },
  {
   "cell_type": "code",
   "execution_count": 32,
   "id": "040bb4bd",
   "metadata": {},
   "outputs": [
    {
     "name": "stderr",
     "output_type": "stream",
     "text": [
      "INFO:lume_services.models.model:Loading latest deployment.\n",
      "INFO:lume_services.services.models.db.db:ModelDB selecting: SELECT deployment.deployment_id, deployment.version, deployment.deploy_date, deployment.package_import_name, deployment.asset_dir, deployment.source, deployment.sha256, deployment.image, deployment.is_live, deployment.model_id \n",
      "FROM deployment \n",
      "WHERE deployment.model_id = :model_id_1 ORDER BY deployment.deploy_date DESC\n",
      "INFO:lume_services.services.models.db.db:ModelDB selecting: SELECT flow.flow_id, flow.flow_name, flow.project_name, flow.deployment_id \n",
      "FROM flow \n",
      "WHERE flow.deployment_id = :deployment_id_1\n",
      "INFO:lume_services.services.models.db.db:ModelDB selecting: SELECT project.project_name, project.description \n",
      "FROM project \n",
      "WHERE project.project_name = :project_name_1\n",
      "INFO:lume_services.services.models.db.db:ModelDB selecting: SELECT flow_of_flows._id, flow_of_flows.parent_flow_id, flow_of_flows.flow_id, flow_of_flows.position \n",
      "FROM flow_of_flows \n",
      "WHERE flow_of_flows.parent_flow_id = :parent_flow_id_1\n"
     ]
    },
    {
     "data": {
      "text/plain": [
       "Deployment(metadata=Deployment(                 deployment_id=1,                 model_id=1,                 version='0.0.32',                 deploy_date=datetime.datetime(2023, 8, 2, 6, 9, 59)),                 asset_dir=None,                 source='https://github.com/singh96aman/lume-lcls-cu-inj-nn/releases/download/v0.0.32/lume_lcls_cu_inj_nn-0.0.32.tar.gz',                 sha256='4adca30a9b6f12d135b90be1353536763dddf4a3e7762dd7aaef455b1120d0a6',                 image='scr.svc.stanford.edu/aman96/lume-lcls-cu-inj-nn:v0.0.32',                 is_live=True                 package_import_name='lume_lcls_cu_inj_nn'                 ), project=Project(metadata=Project(                 project_name='gpu-box-new2',                 description='my_description',                 )), flow=Flow(name='lume-lcls-cu-inj-nn', flow_id='7e5adf50-962f-4b50-93da-a0c86a960b3e', project_name='gpu-box-new2', prefect_flow=None, parameters=None, mapped_parameters=None, task_slugs=None, labels=['lume-services'], image='scr.svc.stanford.edu/aman96/lume-lcls-cu-inj-nn:v0.0.32'), model_type=None)"
      ]
     },
     "execution_count": 32,
     "metadata": {},
     "output_type": "execute_result"
    }
   ],
   "source": [
    "loaded_model.load_deployment()\n",
    "loaded_model.deployment"
   ]
  },
  {
   "cell_type": "code",
   "execution_count": null,
   "id": "06ff1d79",
   "metadata": {},
   "outputs": [],
   "source": [
    "result = loaded_model.run_and_return(\n",
    "    parameters={\n",
    "                        \"distgen:r_dist:sigma_xy:value\": 0.4130, \n",
    "                        \"distgen:total_charge:value\": 250.0, \n",
    "                        \"distgen:t_dist:length:value\":7.499772441611215, \n",
    "                        \"SOL1:solenoid_field_scale\": 0.17, \n",
    "                        \"CQ01:b1_gradient\":-0.0074,\n",
    "                        \"SQ01:b1_gradient\": -0.0074,\n",
    "                        \"L0A_phase:dtheta0_deg\": -8.8997,\n",
    "                        \"L0A_scale:voltage\": 70000000.0,\n",
    "                        \"distgen:t_dist:length:value\": 7.499772441611215,\n",
    "                        \"end_mean_z\": 4.6147002\n",
    "    },\n",
    "    task_name=\"save_db_result\" # Want to get the result from the save_db_result task\n",
    ")\n",
    "result"
   ]
  },
  {
   "cell_type": "code",
   "execution_count": 35,
   "id": "06c25a25",
   "metadata": {},
   "outputs": [
    {
     "name": "stderr",
     "output_type": "stream",
     "text": [
      "WARNING:lume_services.results.generic:No project_name passed to result\n"
     ]
    },
    {
     "data": {
      "text/plain": [
       "0    0.000017\n",
       "Name: end_norm_emit_x, dtype: float64"
      ]
     },
     "execution_count": 35,
     "metadata": {},
     "output_type": "execute_result"
    }
   ],
   "source": [
    "results_df = loaded_model.get_results_df()\n",
    "results_df"
   ]
  },
  {
   "cell_type": "code",
   "execution_count": null,
   "id": "9f0b561a-d44c-4647-ad46-52e21ebc16d4",
   "metadata": {},
   "outputs": [],
   "source": []
  }
 ],
 "metadata": {
  "kernelspec": {
   "display_name": "Python 3 (ipykernel)",
   "language": "python",
   "name": "python3"
  },
  "language_info": {
   "codemirror_mode": {
    "name": "ipython",
    "version": 3
   },
   "file_extension": ".py",
   "mimetype": "text/x-python",
   "name": "python",
   "nbconvert_exporter": "python",
   "pygments_lexer": "ipython3",
   "version": "3.9.16"
  },
  "vscode": {
   "interpreter": {
    "hash": "7b1aa5d32c5360a08f3d071b8537e8759b8901de3eea112666c46651e79793b3"
   }
  }
 },
 "nbformat": 4,
 "nbformat_minor": 5
}
